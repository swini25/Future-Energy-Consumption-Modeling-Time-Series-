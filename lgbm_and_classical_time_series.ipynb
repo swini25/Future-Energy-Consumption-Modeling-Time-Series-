{
  "nbformat": 4,
  "nbformat_minor": 0,
  "metadata": {
    "accelerator": "GPU",
    "colab": {
      "name": "lgbm and classical time series.ipynb",
      "provenance": [],
      "collapsed_sections": [],
      "machine_shape": "hm",
      "include_colab_link": true
    },
    "kernelspec": {
      "display_name": "Python 3",
      "language": "python",
      "name": "python3"
    },
    "language_info": {
      "codemirror_mode": {
        "name": "ipython",
        "version": 3
      },
      "file_extension": ".py",
      "mimetype": "text/x-python",
      "name": "python",
      "nbconvert_exporter": "python",
      "pygments_lexer": "ipython3",
      "version": "3.7.3"
    }
  },
  "cells": [
    {
      "cell_type": "markdown",
      "metadata": {
        "id": "view-in-github",
        "colab_type": "text"
      },
      "source": [
        "<a href=\"https://colab.research.google.com/github/saurabh-parkar/Time-Series-Forecasting-for-Energy-Prediction/blob/master/lgbm_and_classical_time_series.ipynb\" target=\"_parent\"><img src=\"https://colab.research.google.com/assets/colab-badge.svg\" alt=\"Open In Colab\"/></a>"
      ]
    },
    {
      "cell_type": "code",
      "metadata": {
        "colab_type": "code",
        "id": "XgRHZV48Uzz7",
        "outputId": "39985209-852e-4c8f-be15-9ecd2d010e7b",
        "colab": {
          "base_uri": "https://localhost:8080/",
          "height": 34
        }
      },
      "source": [
        "from google.colab import drive\n",
        "drive.mount('/content/drive')"
      ],
      "execution_count": 0,
      "outputs": [
        {
          "output_type": "stream",
          "text": [
            "Drive already mounted at /content/drive; to attempt to forcibly remount, call drive.mount(\"/content/drive\", force_remount=True).\n"
          ],
          "name": "stdout"
        }
      ]
    },
    {
      "cell_type": "code",
      "metadata": {
        "colab_type": "code",
        "id": "4lOMoD3oVWdc",
        "colab": {}
      },
      "source": [
        "import pandas as pd\n",
        "import numpy as np\n",
        "import matplotlib.pyplot as plt\n",
        "import lightgbm as lgb\n",
        "from sklearn.preprocessing import LabelEncoder\n",
        "from sklearn.model_selection import KFold\n",
        "import datetime\n",
        "import gc"
      ],
      "execution_count": 0,
      "outputs": []
    },
    {
      "cell_type": "code",
      "metadata": {
        "colab_type": "code",
        "id": "1rsdHlWdVWf1",
        "colab": {}
      },
      "source": [
        "train_df = pd.read_csv(\"/content/drive/My Drive/Ashrae data/train.csv\")\n",
        "\n",
        "# Remove outliers\n",
        "train_df = train_df [ train_df['building_id'] != 1099 ]\n",
        "train_df = train_df.query('not (building_id <= 104 & meter == 0 & timestamp <= \"2016-05-20\")')\n",
        "\n",
        "building_df = pd.read_csv('/content/drive/My Drive/Ashrae data/building_metadata.csv')\n",
        "weather_df = pd.read_csv('/content/drive/My Drive/Ashrae data/weather_train.csv')"
      ],
      "execution_count": 0,
      "outputs": []
    },
    {
      "cell_type": "code",
      "metadata": {
        "colab_type": "code",
        "id": "K8TqHOkugKAs",
        "colab": {}
      },
      "source": [
        "weather_df[\"datetime\"] = pd.to_datetime(weather_df[\"timestamp\"])\n",
        "weather_df[\"day\"] = weather_df[\"datetime\"].dt.day\n",
        "weather_df[\"week\"] = weather_df[\"datetime\"].dt.week\n",
        "weather_df[\"month\"] = weather_df[\"datetime\"].dt.month\n",
        "air_temperature_filler = pd.DataFrame(weather_df.groupby(['site_id','day','month'])['air_temperature'].mean(),columns=[\"air_temperature\"])\n",
        "#weather_df.update(air_temperature_filler,overwrite=False)"
      ],
      "execution_count": 0,
      "outputs": []
    },
    {
      "cell_type": "code",
      "metadata": {
        "colab_type": "code",
        "id": "gS1-v7vOWFKF",
        "colab": {}
      },
      "source": [
        "def fill_weather_dataset(weather_df):\n",
        "  \n",
        "  # Find Missing Dates\n",
        "  time_format = \"%Y-%m-%d %H:%M:%S\"\n",
        "  start_date = datetime.datetime.strptime(weather_df['timestamp'].min(),time_format)\n",
        "  end_date = datetime.datetime.strptime(weather_df['timestamp'].max(),time_format)\n",
        "  total_hours = int(((end_date - start_date).total_seconds() + 3600) / 3600)\n",
        "  hours_list = [(end_date - datetime.timedelta(hours=x)).strftime(time_format) for x in range(total_hours)]\n",
        "\n",
        "  missing_hours = []\n",
        "  for site_id in range(16):\n",
        "      site_hours = np.array(weather_df[weather_df['site_id'] == site_id]['timestamp'])\n",
        "      new_rows = pd.DataFrame(np.setdiff1d(hours_list,site_hours),columns=['timestamp'])\n",
        "      new_rows['site_id'] = site_id\n",
        "      weather_df = pd.concat([weather_df,new_rows])\n",
        "\n",
        "      weather_df = weather_df.reset_index(drop=True)           \n",
        "\n",
        "  # Add new Features\n",
        "  weather_df[\"datetime\"] = pd.to_datetime(weather_df[\"timestamp\"])\n",
        "  weather_df[\"day\"] = weather_df[\"datetime\"].dt.day\n",
        "  weather_df[\"week\"] = weather_df[\"datetime\"].dt.week\n",
        "  weather_df[\"month\"] = weather_df[\"datetime\"].dt.month\n",
        "\n",
        "  # Reset Index for Fast Update\n",
        "  weather_df = weather_df.set_index(['site_id','day','month'])\n",
        "\n",
        "  air_temperature_filler = pd.DataFrame(weather_df.groupby(['site_id','day','month'])['air_temperature'].mean(),columns=[\"air_temperature\"])\n",
        "  weather_df.update(air_temperature_filler,overwrite=False)\n",
        "\n",
        "  # Step 1\n",
        "  cloud_coverage_filler = weather_df.groupby(['site_id','day','month'])['cloud_coverage'].mean()\n",
        "  # Step 2\n",
        "  cloud_coverage_filler = pd.DataFrame(cloud_coverage_filler.fillna(method='ffill'),columns=[\"cloud_coverage\"])\n",
        "\n",
        "  weather_df.update(cloud_coverage_filler,overwrite=False)\n",
        "\n",
        "  due_temperature_filler = pd.DataFrame(weather_df.groupby(['site_id','day','month'])['dew_temperature'].mean(),columns=[\"dew_temperature\"])\n",
        "  weather_df.update(due_temperature_filler,overwrite=False)\n",
        "\n",
        "  # Step 1\n",
        "  sea_level_filler = weather_df.groupby(['site_id','day','month'])['sea_level_pressure'].mean()\n",
        "  # Step 2\n",
        "  sea_level_filler = pd.DataFrame(sea_level_filler.fillna(method='ffill'),columns=['sea_level_pressure'])\n",
        "\n",
        "  weather_df.update(sea_level_filler,overwrite=False)\n",
        "\n",
        "  wind_direction_filler =  pd.DataFrame(weather_df.groupby(['site_id','day','month'])['wind_direction'].mean(),columns=['wind_direction'])\n",
        "  weather_df.update(wind_direction_filler,overwrite=False)\n",
        "\n",
        "  wind_speed_filler =  pd.DataFrame(weather_df.groupby(['site_id','day','month'])['wind_speed'].mean(),columns=['wind_speed'])\n",
        "  weather_df.update(wind_speed_filler,overwrite=False)\n",
        "\n",
        "  # Step 1\n",
        "  precip_depth_filler = weather_df.groupby(['site_id','day','month'])['precip_depth_1_hr'].mean()\n",
        "  # Step 2\n",
        "  precip_depth_filler = pd.DataFrame(precip_depth_filler.fillna(method='ffill'),columns=['precip_depth_1_hr'])\n",
        "\n",
        "  weather_df.update(precip_depth_filler,overwrite=False)\n",
        "\n",
        "  weather_df = weather_df.reset_index()\n",
        "  weather_df = weather_df.drop(['datetime','day','week','month'],axis=1)\n",
        "      \n",
        "  return weather_df"
      ],
      "execution_count": 0,
      "outputs": []
    },
    {
      "cell_type": "code",
      "metadata": {
        "colab_type": "code",
        "id": "SxV8aAA9WFQQ",
        "colab": {}
      },
      "source": [
        "def features_engineering(df):\n",
        "    \n",
        "    # Sort by timestamp\n",
        "    df.sort_values(\"timestamp\")\n",
        "    df.reset_index(drop=True)\n",
        "    \n",
        "    # Add more features\n",
        "    df[\"timestamp\"] = pd.to_datetime(df[\"timestamp\"],format=\"%Y-%m-%d %H:%M:%S\")\n",
        "    df[\"hour\"] = df[\"timestamp\"].dt.hour\n",
        "    df[\"weekend\"] = df[\"timestamp\"].dt.weekday\n",
        "    holidays = [\"2016-01-01\", \"2016-01-18\", \"2016-02-15\", \"2016-05-30\", \"2016-07-04\",\n",
        "                    \"2016-09-05\", \"2016-10-10\", \"2016-11-11\", \"2016-11-24\", \"2016-12-26\",\n",
        "                    \"2017-01-02\", \"2017-01-16\", \"2017-02-20\", \"2017-05-29\", \"2017-07-04\",\n",
        "                    \"2017-09-04\", \"2017-10-09\", \"2017-11-10\", \"2017-11-23\", \"2017-12-25\",\n",
        "                    \"2018-01-01\", \"2018-01-15\", \"2018-02-19\", \"2018-05-28\", \"2018-07-04\",\n",
        "                    \"2018-09-03\", \"2018-10-08\", \"2018-11-12\", \"2018-11-22\", \"2018-12-25\",\n",
        "                    \"2019-01-01\"]\n",
        "    df[\"is_holiday\"] = (df.timestamp.isin(holidays)).astype(int)\n",
        "    df['square_feet'] =  np.log1p(df['square_feet'])\n",
        "    \n",
        "    # Remove Unused Columns\n",
        "    drop = [\"year_built\",\"floor_count\"]\n",
        "    df = df.drop(drop, axis=1)\n",
        "    gc.collect()\n",
        "    \n",
        "    # Encode Categorical Data\n",
        "    le = LabelEncoder()\n",
        "    df[\"primary_use\"] = le.fit_transform(df[\"primary_use\"])\n",
        "    \n",
        "    return df"
      ],
      "execution_count": 0,
      "outputs": []
    },
    {
      "cell_type": "code",
      "metadata": {
        "colab_type": "code",
        "id": "HtaLPwPsoN9a",
        "outputId": "1d90d65d-02fe-4d51-fa97-8a9cdf647bc4",
        "colab": {
          "base_uri": "https://localhost:8080/",
          "height": 173
        }
      },
      "source": [
        "weather_df = fill_weather_dataset(weather_df)"
      ],
      "execution_count": 0,
      "outputs": [
        {
          "output_type": "stream",
          "text": [
            "/usr/local/lib/python3.6/dist-packages/ipykernel_launcher.py:15: FutureWarning: Sorting because non-concatenation axis is not aligned. A future version\n",
            "of pandas will change to not sort by default.\n",
            "\n",
            "To accept the future behavior, pass 'sort=False'.\n",
            "\n",
            "To retain the current behavior and silence the warning, pass 'sort=True'.\n",
            "\n",
            "  from ipykernel import kernelapp as app\n"
          ],
          "name": "stderr"
        }
      ]
    },
    {
      "cell_type": "code",
      "metadata": {
        "colab_type": "code",
        "id": "EwpbnbypoOAf",
        "outputId": "38901006-3360-4687-86eb-3cb097c13899",
        "colab": {
          "base_uri": "https://localhost:8080/",
          "height": 583
        }
      },
      "source": [
        "weather_df"
      ],
      "execution_count": 0,
      "outputs": [
        {
          "output_type": "execute_result",
          "data": {
            "text/html": [
              "<div>\n",
              "<style scoped>\n",
              "    .dataframe tbody tr th:only-of-type {\n",
              "        vertical-align: middle;\n",
              "    }\n",
              "\n",
              "    .dataframe tbody tr th {\n",
              "        vertical-align: top;\n",
              "    }\n",
              "\n",
              "    .dataframe thead th {\n",
              "        text-align: right;\n",
              "    }\n",
              "</style>\n",
              "<table border=\"1\" class=\"dataframe\">\n",
              "  <thead>\n",
              "    <tr style=\"text-align: right;\">\n",
              "      <th></th>\n",
              "      <th>site_id</th>\n",
              "      <th>air_temperature</th>\n",
              "      <th>cloud_coverage</th>\n",
              "      <th>dew_temperature</th>\n",
              "      <th>precip_depth_1_hr</th>\n",
              "      <th>sea_level_pressure</th>\n",
              "      <th>timestamp</th>\n",
              "      <th>wind_direction</th>\n",
              "      <th>wind_speed</th>\n",
              "    </tr>\n",
              "  </thead>\n",
              "  <tbody>\n",
              "    <tr>\n",
              "      <th>0</th>\n",
              "      <td>0</td>\n",
              "      <td>25.000000</td>\n",
              "      <td>6.000000</td>\n",
              "      <td>20.000000</td>\n",
              "      <td>-0.173913</td>\n",
              "      <td>1019.700000</td>\n",
              "      <td>2016-01-01 00:00:00</td>\n",
              "      <td>0.000000</td>\n",
              "      <td>0.000000</td>\n",
              "    </tr>\n",
              "    <tr>\n",
              "      <th>1</th>\n",
              "      <td>0</td>\n",
              "      <td>24.400000</td>\n",
              "      <td>4.285714</td>\n",
              "      <td>21.100000</td>\n",
              "      <td>-1.000000</td>\n",
              "      <td>1020.200000</td>\n",
              "      <td>2016-01-01 01:00:00</td>\n",
              "      <td>70.000000</td>\n",
              "      <td>1.500000</td>\n",
              "    </tr>\n",
              "    <tr>\n",
              "      <th>2</th>\n",
              "      <td>0</td>\n",
              "      <td>22.800000</td>\n",
              "      <td>2.000000</td>\n",
              "      <td>21.100000</td>\n",
              "      <td>0.000000</td>\n",
              "      <td>1020.200000</td>\n",
              "      <td>2016-01-01 02:00:00</td>\n",
              "      <td>0.000000</td>\n",
              "      <td>0.000000</td>\n",
              "    </tr>\n",
              "    <tr>\n",
              "      <th>3</th>\n",
              "      <td>0</td>\n",
              "      <td>21.100000</td>\n",
              "      <td>2.000000</td>\n",
              "      <td>20.600000</td>\n",
              "      <td>0.000000</td>\n",
              "      <td>1020.100000</td>\n",
              "      <td>2016-01-01 03:00:00</td>\n",
              "      <td>0.000000</td>\n",
              "      <td>0.000000</td>\n",
              "    </tr>\n",
              "    <tr>\n",
              "      <th>4</th>\n",
              "      <td>0</td>\n",
              "      <td>20.000000</td>\n",
              "      <td>2.000000</td>\n",
              "      <td>20.000000</td>\n",
              "      <td>-1.000000</td>\n",
              "      <td>1020.000000</td>\n",
              "      <td>2016-01-01 04:00:00</td>\n",
              "      <td>250.000000</td>\n",
              "      <td>2.600000</td>\n",
              "    </tr>\n",
              "    <tr>\n",
              "      <th>...</th>\n",
              "      <td>...</td>\n",
              "      <td>...</td>\n",
              "      <td>...</td>\n",
              "      <td>...</td>\n",
              "      <td>...</td>\n",
              "      <td>...</td>\n",
              "      <td>...</td>\n",
              "      <td>...</td>\n",
              "      <td>...</td>\n",
              "    </tr>\n",
              "    <tr>\n",
              "      <th>140539</th>\n",
              "      <td>15</td>\n",
              "      <td>-3.534783</td>\n",
              "      <td>4.000000</td>\n",
              "      <td>-7.013043</td>\n",
              "      <td>-1.000000</td>\n",
              "      <td>1019.817391</td>\n",
              "      <td>2016-12-09 10:00:00</td>\n",
              "      <td>290.869565</td>\n",
              "      <td>6.565217</td>\n",
              "    </tr>\n",
              "    <tr>\n",
              "      <th>140540</th>\n",
              "      <td>15</td>\n",
              "      <td>-5.856522</td>\n",
              "      <td>1.500000</td>\n",
              "      <td>-8.982609</td>\n",
              "      <td>0.066667</td>\n",
              "      <td>1015.613043</td>\n",
              "      <td>2016-12-17 07:00:00</td>\n",
              "      <td>157.391304</td>\n",
              "      <td>5.695652</td>\n",
              "    </tr>\n",
              "    <tr>\n",
              "      <th>140541</th>\n",
              "      <td>15</td>\n",
              "      <td>-8.865217</td>\n",
              "      <td>0.000000</td>\n",
              "      <td>-12.730435</td>\n",
              "      <td>3.800000</td>\n",
              "      <td>1032.981818</td>\n",
              "      <td>2016-12-20 06:00:00</td>\n",
              "      <td>135.652174</td>\n",
              "      <td>3.500000</td>\n",
              "    </tr>\n",
              "    <tr>\n",
              "      <th>140542</th>\n",
              "      <td>15</td>\n",
              "      <td>2.630435</td>\n",
              "      <td>1.200000</td>\n",
              "      <td>-2.760870</td>\n",
              "      <td>-1.000000</td>\n",
              "      <td>1020.921739</td>\n",
              "      <td>2016-12-24 05:00:00</td>\n",
              "      <td>200.869565</td>\n",
              "      <td>4.847826</td>\n",
              "    </tr>\n",
              "    <tr>\n",
              "      <th>140543</th>\n",
              "      <td>15</td>\n",
              "      <td>-1.439130</td>\n",
              "      <td>0.500000</td>\n",
              "      <td>-4.669565</td>\n",
              "      <td>1.222222</td>\n",
              "      <td>1018.339130</td>\n",
              "      <td>2016-12-28 10:00:00</td>\n",
              "      <td>266.521739</td>\n",
              "      <td>4.465217</td>\n",
              "    </tr>\n",
              "  </tbody>\n",
              "</table>\n",
              "<p>140544 rows × 9 columns</p>\n",
              "</div>"
            ],
            "text/plain": [
              "        site_id  air_temperature  ...  wind_direction  wind_speed\n",
              "0             0        25.000000  ...        0.000000    0.000000\n",
              "1             0        24.400000  ...       70.000000    1.500000\n",
              "2             0        22.800000  ...        0.000000    0.000000\n",
              "3             0        21.100000  ...        0.000000    0.000000\n",
              "4             0        20.000000  ...      250.000000    2.600000\n",
              "...         ...              ...  ...             ...         ...\n",
              "140539       15        -3.534783  ...      290.869565    6.565217\n",
              "140540       15        -5.856522  ...      157.391304    5.695652\n",
              "140541       15        -8.865217  ...      135.652174    3.500000\n",
              "140542       15         2.630435  ...      200.869565    4.847826\n",
              "140543       15        -1.439130  ...      266.521739    4.465217\n",
              "\n",
              "[140544 rows x 9 columns]"
            ]
          },
          "metadata": {
            "tags": []
          },
          "execution_count": 11
        }
      ]
    },
    {
      "cell_type": "code",
      "metadata": {
        "colab_type": "code",
        "id": "vGzXgKKSoODA",
        "outputId": "90fc3f70-a2e8-4348-e32b-9035062ea797",
        "colab": {
          "base_uri": "https://localhost:8080/",
          "height": 34
        }
      },
      "source": [
        "train_df = train_df.merge(building_df, left_on='building_id',right_on='building_id',how='left')\n",
        "train_df = train_df.merge(weather_df,how='left',left_on=['site_id','timestamp'],right_on=['site_id','timestamp'])\n",
        "del weather_df\n",
        "gc.collect()"
      ],
      "execution_count": 0,
      "outputs": [
        {
          "output_type": "execute_result",
          "data": {
            "text/plain": [
              "0"
            ]
          },
          "metadata": {
            "tags": []
          },
          "execution_count": 12
        }
      ]
    },
    {
      "cell_type": "code",
      "metadata": {
        "colab_type": "code",
        "id": "Qq7wQnBDoOFh",
        "colab": {}
      },
      "source": [
        "train_df_temp = features_engineering(train_df)"
      ],
      "execution_count": 0,
      "outputs": []
    },
    {
      "cell_type": "code",
      "metadata": {
        "colab_type": "code",
        "id": "Nhiiyz1AqUMh",
        "outputId": "799709d6-0040-473b-d22e-6c2a6361c79a",
        "colab": {
          "base_uri": "https://localhost:8080/",
          "height": 543
        }
      },
      "source": [
        "train_df_temp.head(10)"
      ],
      "execution_count": 0,
      "outputs": [
        {
          "output_type": "execute_result",
          "data": {
            "text/html": [
              "<div>\n",
              "<style scoped>\n",
              "    .dataframe tbody tr th:only-of-type {\n",
              "        vertical-align: middle;\n",
              "    }\n",
              "\n",
              "    .dataframe tbody tr th {\n",
              "        vertical-align: top;\n",
              "    }\n",
              "\n",
              "    .dataframe thead th {\n",
              "        text-align: right;\n",
              "    }\n",
              "</style>\n",
              "<table border=\"1\" class=\"dataframe\">\n",
              "  <thead>\n",
              "    <tr style=\"text-align: right;\">\n",
              "      <th></th>\n",
              "      <th>building_id</th>\n",
              "      <th>meter</th>\n",
              "      <th>timestamp</th>\n",
              "      <th>meter_reading</th>\n",
              "      <th>site_id</th>\n",
              "      <th>primary_use</th>\n",
              "      <th>square_feet</th>\n",
              "      <th>air_temperature</th>\n",
              "      <th>cloud_coverage</th>\n",
              "      <th>dew_temperature</th>\n",
              "      <th>precip_depth_1_hr</th>\n",
              "      <th>sea_level_pressure</th>\n",
              "      <th>wind_direction</th>\n",
              "      <th>wind_speed</th>\n",
              "      <th>hour</th>\n",
              "      <th>weekend</th>\n",
              "      <th>is_holiday</th>\n",
              "    </tr>\n",
              "  </thead>\n",
              "  <tbody>\n",
              "    <tr>\n",
              "      <th>0</th>\n",
              "      <td>105</td>\n",
              "      <td>0</td>\n",
              "      <td>2016-01-01</td>\n",
              "      <td>23.3036</td>\n",
              "      <td>1</td>\n",
              "      <td>0</td>\n",
              "      <td>10.832181</td>\n",
              "      <td>3.8</td>\n",
              "      <td>0.0</td>\n",
              "      <td>2.4</td>\n",
              "      <td>0.0</td>\n",
              "      <td>1020.9</td>\n",
              "      <td>240.0</td>\n",
              "      <td>3.1</td>\n",
              "      <td>0</td>\n",
              "      <td>4</td>\n",
              "      <td>1</td>\n",
              "    </tr>\n",
              "    <tr>\n",
              "      <th>1</th>\n",
              "      <td>106</td>\n",
              "      <td>0</td>\n",
              "      <td>2016-01-01</td>\n",
              "      <td>0.3746</td>\n",
              "      <td>1</td>\n",
              "      <td>0</td>\n",
              "      <td>8.589514</td>\n",
              "      <td>3.8</td>\n",
              "      <td>0.0</td>\n",
              "      <td>2.4</td>\n",
              "      <td>0.0</td>\n",
              "      <td>1020.9</td>\n",
              "      <td>240.0</td>\n",
              "      <td>3.1</td>\n",
              "      <td>0</td>\n",
              "      <td>4</td>\n",
              "      <td>1</td>\n",
              "    </tr>\n",
              "    <tr>\n",
              "      <th>2</th>\n",
              "      <td>106</td>\n",
              "      <td>3</td>\n",
              "      <td>2016-01-01</td>\n",
              "      <td>0.0000</td>\n",
              "      <td>1</td>\n",
              "      <td>0</td>\n",
              "      <td>8.589514</td>\n",
              "      <td>3.8</td>\n",
              "      <td>0.0</td>\n",
              "      <td>2.4</td>\n",
              "      <td>0.0</td>\n",
              "      <td>1020.9</td>\n",
              "      <td>240.0</td>\n",
              "      <td>3.1</td>\n",
              "      <td>0</td>\n",
              "      <td>4</td>\n",
              "      <td>1</td>\n",
              "    </tr>\n",
              "    <tr>\n",
              "      <th>3</th>\n",
              "      <td>107</td>\n",
              "      <td>0</td>\n",
              "      <td>2016-01-01</td>\n",
              "      <td>175.1840</td>\n",
              "      <td>1</td>\n",
              "      <td>0</td>\n",
              "      <td>11.487946</td>\n",
              "      <td>3.8</td>\n",
              "      <td>0.0</td>\n",
              "      <td>2.4</td>\n",
              "      <td>0.0</td>\n",
              "      <td>1020.9</td>\n",
              "      <td>240.0</td>\n",
              "      <td>3.1</td>\n",
              "      <td>0</td>\n",
              "      <td>4</td>\n",
              "      <td>1</td>\n",
              "    </tr>\n",
              "    <tr>\n",
              "      <th>4</th>\n",
              "      <td>108</td>\n",
              "      <td>0</td>\n",
              "      <td>2016-01-01</td>\n",
              "      <td>91.2653</td>\n",
              "      <td>1</td>\n",
              "      <td>0</td>\n",
              "      <td>11.309352</td>\n",
              "      <td>3.8</td>\n",
              "      <td>0.0</td>\n",
              "      <td>2.4</td>\n",
              "      <td>0.0</td>\n",
              "      <td>1020.9</td>\n",
              "      <td>240.0</td>\n",
              "      <td>3.1</td>\n",
              "      <td>0</td>\n",
              "      <td>4</td>\n",
              "      <td>1</td>\n",
              "    </tr>\n",
              "    <tr>\n",
              "      <th>5</th>\n",
              "      <td>109</td>\n",
              "      <td>0</td>\n",
              "      <td>2016-01-01</td>\n",
              "      <td>80.9300</td>\n",
              "      <td>1</td>\n",
              "      <td>0</td>\n",
              "      <td>10.950736</td>\n",
              "      <td>3.8</td>\n",
              "      <td>0.0</td>\n",
              "      <td>2.4</td>\n",
              "      <td>0.0</td>\n",
              "      <td>1020.9</td>\n",
              "      <td>240.0</td>\n",
              "      <td>3.1</td>\n",
              "      <td>0</td>\n",
              "      <td>4</td>\n",
              "      <td>1</td>\n",
              "    </tr>\n",
              "    <tr>\n",
              "      <th>6</th>\n",
              "      <td>109</td>\n",
              "      <td>3</td>\n",
              "      <td>2016-01-01</td>\n",
              "      <td>0.0000</td>\n",
              "      <td>1</td>\n",
              "      <td>0</td>\n",
              "      <td>10.950736</td>\n",
              "      <td>3.8</td>\n",
              "      <td>0.0</td>\n",
              "      <td>2.4</td>\n",
              "      <td>0.0</td>\n",
              "      <td>1020.9</td>\n",
              "      <td>240.0</td>\n",
              "      <td>3.1</td>\n",
              "      <td>0</td>\n",
              "      <td>4</td>\n",
              "      <td>1</td>\n",
              "    </tr>\n",
              "    <tr>\n",
              "      <th>7</th>\n",
              "      <td>110</td>\n",
              "      <td>0</td>\n",
              "      <td>2016-01-01</td>\n",
              "      <td>86.2283</td>\n",
              "      <td>1</td>\n",
              "      <td>0</td>\n",
              "      <td>10.233331</td>\n",
              "      <td>3.8</td>\n",
              "      <td>0.0</td>\n",
              "      <td>2.4</td>\n",
              "      <td>0.0</td>\n",
              "      <td>1020.9</td>\n",
              "      <td>240.0</td>\n",
              "      <td>3.1</td>\n",
              "      <td>0</td>\n",
              "      <td>4</td>\n",
              "      <td>1</td>\n",
              "    </tr>\n",
              "    <tr>\n",
              "      <th>8</th>\n",
              "      <td>111</td>\n",
              "      <td>0</td>\n",
              "      <td>2016-01-01</td>\n",
              "      <td>167.3920</td>\n",
              "      <td>1</td>\n",
              "      <td>0</td>\n",
              "      <td>11.681309</td>\n",
              "      <td>3.8</td>\n",
              "      <td>0.0</td>\n",
              "      <td>2.4</td>\n",
              "      <td>0.0</td>\n",
              "      <td>1020.9</td>\n",
              "      <td>240.0</td>\n",
              "      <td>3.1</td>\n",
              "      <td>0</td>\n",
              "      <td>4</td>\n",
              "      <td>1</td>\n",
              "    </tr>\n",
              "    <tr>\n",
              "      <th>9</th>\n",
              "      <td>112</td>\n",
              "      <td>0</td>\n",
              "      <td>2016-01-01</td>\n",
              "      <td>10.2748</td>\n",
              "      <td>1</td>\n",
              "      <td>0</td>\n",
              "      <td>10.379939</td>\n",
              "      <td>3.8</td>\n",
              "      <td>0.0</td>\n",
              "      <td>2.4</td>\n",
              "      <td>0.0</td>\n",
              "      <td>1020.9</td>\n",
              "      <td>240.0</td>\n",
              "      <td>3.1</td>\n",
              "      <td>0</td>\n",
              "      <td>4</td>\n",
              "      <td>1</td>\n",
              "    </tr>\n",
              "  </tbody>\n",
              "</table>\n",
              "</div>"
            ],
            "text/plain": [
              "   building_id  meter  timestamp  ...  hour  weekend  is_holiday\n",
              "0          105      0 2016-01-01  ...     0        4           1\n",
              "1          106      0 2016-01-01  ...     0        4           1\n",
              "2          106      3 2016-01-01  ...     0        4           1\n",
              "3          107      0 2016-01-01  ...     0        4           1\n",
              "4          108      0 2016-01-01  ...     0        4           1\n",
              "5          109      0 2016-01-01  ...     0        4           1\n",
              "6          109      3 2016-01-01  ...     0        4           1\n",
              "7          110      0 2016-01-01  ...     0        4           1\n",
              "8          111      0 2016-01-01  ...     0        4           1\n",
              "9          112      0 2016-01-01  ...     0        4           1\n",
              "\n",
              "[10 rows x 17 columns]"
            ]
          },
          "metadata": {
            "tags": []
          },
          "execution_count": 14
        }
      ]
    },
    {
      "cell_type": "code",
      "metadata": {
        "colab_type": "code",
        "id": "ts_ZRUOWqULG",
        "colab": {}
      },
      "source": [
        "train_df = train_df_temp.drop(columns=\"timestamp\")"
      ],
      "execution_count": 0,
      "outputs": []
    },
    {
      "cell_type": "code",
      "metadata": {
        "colab_type": "code",
        "id": "D9QCOOSaLs-v",
        "outputId": "bebd5c7d-e5c4-459c-fa5d-19ff84903263",
        "colab": {
          "base_uri": "https://localhost:8080/",
          "height": 306
        }
      },
      "source": [
        ""
      ],
      "execution_count": 0,
      "outputs": [
        {
          "output_type": "execute_result",
          "data": {
            "text/html": [
              "<div>\n",
              "<style scoped>\n",
              "    .dataframe tbody tr th:only-of-type {\n",
              "        vertical-align: middle;\n",
              "    }\n",
              "\n",
              "    .dataframe tbody tr th {\n",
              "        vertical-align: top;\n",
              "    }\n",
              "\n",
              "    .dataframe thead th {\n",
              "        text-align: right;\n",
              "    }\n",
              "</style>\n",
              "<table border=\"1\" class=\"dataframe\">\n",
              "  <thead>\n",
              "    <tr style=\"text-align: right;\">\n",
              "      <th></th>\n",
              "      <th>building_id</th>\n",
              "      <th>meter</th>\n",
              "      <th>timestamp</th>\n",
              "      <th>meter_reading</th>\n",
              "      <th>site_id</th>\n",
              "      <th>primary_use</th>\n",
              "      <th>square_feet</th>\n",
              "      <th>air_temperature</th>\n",
              "      <th>cloud_coverage</th>\n",
              "      <th>dew_temperature</th>\n",
              "      <th>precip_depth_1_hr</th>\n",
              "      <th>sea_level_pressure</th>\n",
              "      <th>wind_direction</th>\n",
              "      <th>wind_speed</th>\n",
              "      <th>hour</th>\n",
              "      <th>weekend</th>\n",
              "      <th>is_holiday</th>\n",
              "    </tr>\n",
              "  </thead>\n",
              "  <tbody>\n",
              "    <tr>\n",
              "      <th>0</th>\n",
              "      <td>105</td>\n",
              "      <td>0</td>\n",
              "      <td>2016-01-01</td>\n",
              "      <td>23.3036</td>\n",
              "      <td>1</td>\n",
              "      <td>0</td>\n",
              "      <td>10.832181</td>\n",
              "      <td>3.8</td>\n",
              "      <td>0.0</td>\n",
              "      <td>2.4</td>\n",
              "      <td>0.0</td>\n",
              "      <td>1020.9</td>\n",
              "      <td>240.0</td>\n",
              "      <td>3.1</td>\n",
              "      <td>0</td>\n",
              "      <td>4</td>\n",
              "      <td>1</td>\n",
              "    </tr>\n",
              "    <tr>\n",
              "      <th>1</th>\n",
              "      <td>106</td>\n",
              "      <td>0</td>\n",
              "      <td>2016-01-01</td>\n",
              "      <td>0.3746</td>\n",
              "      <td>1</td>\n",
              "      <td>0</td>\n",
              "      <td>8.589514</td>\n",
              "      <td>3.8</td>\n",
              "      <td>0.0</td>\n",
              "      <td>2.4</td>\n",
              "      <td>0.0</td>\n",
              "      <td>1020.9</td>\n",
              "      <td>240.0</td>\n",
              "      <td>3.1</td>\n",
              "      <td>0</td>\n",
              "      <td>4</td>\n",
              "      <td>1</td>\n",
              "    </tr>\n",
              "    <tr>\n",
              "      <th>2</th>\n",
              "      <td>106</td>\n",
              "      <td>3</td>\n",
              "      <td>2016-01-01</td>\n",
              "      <td>0.0000</td>\n",
              "      <td>1</td>\n",
              "      <td>0</td>\n",
              "      <td>8.589514</td>\n",
              "      <td>3.8</td>\n",
              "      <td>0.0</td>\n",
              "      <td>2.4</td>\n",
              "      <td>0.0</td>\n",
              "      <td>1020.9</td>\n",
              "      <td>240.0</td>\n",
              "      <td>3.1</td>\n",
              "      <td>0</td>\n",
              "      <td>4</td>\n",
              "      <td>1</td>\n",
              "    </tr>\n",
              "    <tr>\n",
              "      <th>3</th>\n",
              "      <td>107</td>\n",
              "      <td>0</td>\n",
              "      <td>2016-01-01</td>\n",
              "      <td>175.1840</td>\n",
              "      <td>1</td>\n",
              "      <td>0</td>\n",
              "      <td>11.487946</td>\n",
              "      <td>3.8</td>\n",
              "      <td>0.0</td>\n",
              "      <td>2.4</td>\n",
              "      <td>0.0</td>\n",
              "      <td>1020.9</td>\n",
              "      <td>240.0</td>\n",
              "      <td>3.1</td>\n",
              "      <td>0</td>\n",
              "      <td>4</td>\n",
              "      <td>1</td>\n",
              "    </tr>\n",
              "    <tr>\n",
              "      <th>4</th>\n",
              "      <td>108</td>\n",
              "      <td>0</td>\n",
              "      <td>2016-01-01</td>\n",
              "      <td>91.2653</td>\n",
              "      <td>1</td>\n",
              "      <td>0</td>\n",
              "      <td>11.309352</td>\n",
              "      <td>3.8</td>\n",
              "      <td>0.0</td>\n",
              "      <td>2.4</td>\n",
              "      <td>0.0</td>\n",
              "      <td>1020.9</td>\n",
              "      <td>240.0</td>\n",
              "      <td>3.1</td>\n",
              "      <td>0</td>\n",
              "      <td>4</td>\n",
              "      <td>1</td>\n",
              "    </tr>\n",
              "  </tbody>\n",
              "</table>\n",
              "</div>"
            ],
            "text/plain": [
              "   building_id  meter  timestamp  ...  hour  weekend  is_holiday\n",
              "0          105      0 2016-01-01  ...     0        4           1\n",
              "1          106      0 2016-01-01  ...     0        4           1\n",
              "2          106      3 2016-01-01  ...     0        4           1\n",
              "3          107      0 2016-01-01  ...     0        4           1\n",
              "4          108      0 2016-01-01  ...     0        4           1\n",
              "\n",
              "[5 rows x 17 columns]"
            ]
          },
          "metadata": {
            "tags": []
          },
          "execution_count": 36
        }
      ]
    },
    {
      "cell_type": "code",
      "metadata": {
        "colab_type": "code",
        "id": "ixy4GrIEuuBt",
        "colab": {}
      },
      "source": [
        "train_df_temp.to_csv('/content/drive/My Drive/Ashrae data/train_tidy_temp.csv')"
      ],
      "execution_count": 0,
      "outputs": []
    },
    {
      "cell_type": "markdown",
      "metadata": {
        "id": "WY-4j_qeEFG8",
        "colab_type": "text"
      },
      "source": [
        "---"
      ]
    },
    {
      "cell_type": "code",
      "metadata": {
        "id": "YknDmiWVEFG_",
        "colab_type": "code",
        "colab": {}
      },
      "source": [
        "train_df1 = pd.read_csv(\"C:\\\\Users\\\\Sanjan\\\\Desktop\\\\Ashrae data\\\\train_tidy_temp.csv\")"
      ],
      "execution_count": 0,
      "outputs": []
    },
    {
      "cell_type": "markdown",
      "metadata": {
        "id": "-wsZ5Em3EFHE",
        "colab_type": "text"
      },
      "source": [
        "---"
      ]
    },
    {
      "cell_type": "code",
      "metadata": {
        "colab_type": "code",
        "id": "tHm6Y9lcs0dT",
        "outputId": "4d6a3bda-b506-497f-f796-21d842b618a7",
        "colab": {
          "base_uri": "https://localhost:8080/",
          "height": 220
        }
      },
      "source": [
        "train_df1.head()"
      ],
      "execution_count": 0,
      "outputs": [
        {
          "output_type": "execute_result",
          "data": {
            "text/html": [
              "<div>\n",
              "<style scoped>\n",
              "    .dataframe tbody tr th:only-of-type {\n",
              "        vertical-align: middle;\n",
              "    }\n",
              "\n",
              "    .dataframe tbody tr th {\n",
              "        vertical-align: top;\n",
              "    }\n",
              "\n",
              "    .dataframe thead th {\n",
              "        text-align: right;\n",
              "    }\n",
              "</style>\n",
              "<table border=\"1\" class=\"dataframe\">\n",
              "  <thead>\n",
              "    <tr style=\"text-align: right;\">\n",
              "      <th></th>\n",
              "      <th>Unnamed: 0</th>\n",
              "      <th>building_id</th>\n",
              "      <th>meter</th>\n",
              "      <th>timestamp</th>\n",
              "      <th>meter_reading</th>\n",
              "      <th>site_id</th>\n",
              "      <th>primary_use</th>\n",
              "      <th>square_feet</th>\n",
              "      <th>air_temperature</th>\n",
              "      <th>cloud_coverage</th>\n",
              "      <th>dew_temperature</th>\n",
              "      <th>precip_depth_1_hr</th>\n",
              "      <th>sea_level_pressure</th>\n",
              "      <th>wind_direction</th>\n",
              "      <th>wind_speed</th>\n",
              "      <th>hour</th>\n",
              "      <th>weekend</th>\n",
              "      <th>is_holiday</th>\n",
              "    </tr>\n",
              "  </thead>\n",
              "  <tbody>\n",
              "    <tr>\n",
              "      <th>0</th>\n",
              "      <td>0</td>\n",
              "      <td>105</td>\n",
              "      <td>0</td>\n",
              "      <td>2016-01-01 00:00:00</td>\n",
              "      <td>23.3036</td>\n",
              "      <td>1</td>\n",
              "      <td>0</td>\n",
              "      <td>10.832181</td>\n",
              "      <td>3.8</td>\n",
              "      <td>0.0</td>\n",
              "      <td>2.4</td>\n",
              "      <td>0.0</td>\n",
              "      <td>1020.9</td>\n",
              "      <td>240.0</td>\n",
              "      <td>3.1</td>\n",
              "      <td>0</td>\n",
              "      <td>4</td>\n",
              "      <td>1</td>\n",
              "    </tr>\n",
              "    <tr>\n",
              "      <th>1</th>\n",
              "      <td>1</td>\n",
              "      <td>106</td>\n",
              "      <td>0</td>\n",
              "      <td>2016-01-01 00:00:00</td>\n",
              "      <td>0.3746</td>\n",
              "      <td>1</td>\n",
              "      <td>0</td>\n",
              "      <td>8.589514</td>\n",
              "      <td>3.8</td>\n",
              "      <td>0.0</td>\n",
              "      <td>2.4</td>\n",
              "      <td>0.0</td>\n",
              "      <td>1020.9</td>\n",
              "      <td>240.0</td>\n",
              "      <td>3.1</td>\n",
              "      <td>0</td>\n",
              "      <td>4</td>\n",
              "      <td>1</td>\n",
              "    </tr>\n",
              "    <tr>\n",
              "      <th>2</th>\n",
              "      <td>2</td>\n",
              "      <td>106</td>\n",
              "      <td>3</td>\n",
              "      <td>2016-01-01 00:00:00</td>\n",
              "      <td>0.0000</td>\n",
              "      <td>1</td>\n",
              "      <td>0</td>\n",
              "      <td>8.589514</td>\n",
              "      <td>3.8</td>\n",
              "      <td>0.0</td>\n",
              "      <td>2.4</td>\n",
              "      <td>0.0</td>\n",
              "      <td>1020.9</td>\n",
              "      <td>240.0</td>\n",
              "      <td>3.1</td>\n",
              "      <td>0</td>\n",
              "      <td>4</td>\n",
              "      <td>1</td>\n",
              "    </tr>\n",
              "    <tr>\n",
              "      <th>3</th>\n",
              "      <td>3</td>\n",
              "      <td>107</td>\n",
              "      <td>0</td>\n",
              "      <td>2016-01-01 00:00:00</td>\n",
              "      <td>175.1840</td>\n",
              "      <td>1</td>\n",
              "      <td>0</td>\n",
              "      <td>11.487946</td>\n",
              "      <td>3.8</td>\n",
              "      <td>0.0</td>\n",
              "      <td>2.4</td>\n",
              "      <td>0.0</td>\n",
              "      <td>1020.9</td>\n",
              "      <td>240.0</td>\n",
              "      <td>3.1</td>\n",
              "      <td>0</td>\n",
              "      <td>4</td>\n",
              "      <td>1</td>\n",
              "    </tr>\n",
              "    <tr>\n",
              "      <th>4</th>\n",
              "      <td>4</td>\n",
              "      <td>108</td>\n",
              "      <td>0</td>\n",
              "      <td>2016-01-01 00:00:00</td>\n",
              "      <td>91.2653</td>\n",
              "      <td>1</td>\n",
              "      <td>0</td>\n",
              "      <td>11.309352</td>\n",
              "      <td>3.8</td>\n",
              "      <td>0.0</td>\n",
              "      <td>2.4</td>\n",
              "      <td>0.0</td>\n",
              "      <td>1020.9</td>\n",
              "      <td>240.0</td>\n",
              "      <td>3.1</td>\n",
              "      <td>0</td>\n",
              "      <td>4</td>\n",
              "      <td>1</td>\n",
              "    </tr>\n",
              "  </tbody>\n",
              "</table>\n",
              "</div>"
            ],
            "text/plain": [
              "   Unnamed: 0  building_id  meter            timestamp  meter_reading  \\\n",
              "0           0          105      0  2016-01-01 00:00:00        23.3036   \n",
              "1           1          106      0  2016-01-01 00:00:00         0.3746   \n",
              "2           2          106      3  2016-01-01 00:00:00         0.0000   \n",
              "3           3          107      0  2016-01-01 00:00:00       175.1840   \n",
              "4           4          108      0  2016-01-01 00:00:00        91.2653   \n",
              "\n",
              "   site_id  primary_use  square_feet  air_temperature  cloud_coverage  \\\n",
              "0        1            0    10.832181              3.8             0.0   \n",
              "1        1            0     8.589514              3.8             0.0   \n",
              "2        1            0     8.589514              3.8             0.0   \n",
              "3        1            0    11.487946              3.8             0.0   \n",
              "4        1            0    11.309352              3.8             0.0   \n",
              "\n",
              "   dew_temperature  precip_depth_1_hr  sea_level_pressure  wind_direction  \\\n",
              "0              2.4                0.0              1020.9           240.0   \n",
              "1              2.4                0.0              1020.9           240.0   \n",
              "2              2.4                0.0              1020.9           240.0   \n",
              "3              2.4                0.0              1020.9           240.0   \n",
              "4              2.4                0.0              1020.9           240.0   \n",
              "\n",
              "   wind_speed  hour  weekend  is_holiday  \n",
              "0         3.1     0        4           1  \n",
              "1         3.1     0        4           1  \n",
              "2         3.1     0        4           1  \n",
              "3         3.1     0        4           1  \n",
              "4         3.1     0        4           1  "
            ]
          },
          "metadata": {
            "tags": []
          },
          "execution_count": 12
        }
      ]
    },
    {
      "cell_type": "code",
      "metadata": {
        "scrolled": false,
        "id": "u5NzIkZLEFHK",
        "colab_type": "code",
        "colab": {}
      },
      "source": [
        "train_df1 = train_df1.drop('Unnamed: 0',axis=1)\n",
        "train_df1 = train_df1.drop('timestamp',axis=1)\n",
        "\n",
        "#train_df1.columns"
      ],
      "execution_count": 0,
      "outputs": []
    },
    {
      "cell_type": "code",
      "metadata": {
        "colab_type": "code",
        "id": "UHp5IwCnxrrc",
        "outputId": "0d9d36f0-dc07-46ad-de21-0e942a9d27de",
        "colab": {
          "base_uri": "https://localhost:8080/",
          "height": 34
        }
      },
      "source": [
        "target = np.log1p(train_df1[\"meter_reading\"])\n",
        "features = train_df1.drop('meter_reading', axis = 1)\n",
        "#del train_df\n",
        "gc.collect()"
      ],
      "execution_count": 0,
      "outputs": [
        {
          "output_type": "execute_result",
          "data": {
            "text/plain": [
              "27"
            ]
          },
          "metadata": {
            "tags": []
          },
          "execution_count": 3
        }
      ]
    },
    {
      "cell_type": "code",
      "metadata": {
        "colab_type": "code",
        "id": "aeClY4_7J5yw",
        "outputId": "83b8cbf1-4953-4793-fb2c-0b169ff92ae9",
        "colab": {
          "base_uri": "https://localhost:8080/",
          "height": 119
        }
      },
      "source": [
        "categorical_features = [\"building_id\", \"site_id\", \"meter\", \"primary_use\", \"is_holiday\", \"weekend\"]\n",
        "params = {\n",
        "    \"objective\": \"regression\",\n",
        "    \"boosting\": \"gbdt\",\n",
        "    \"num_leaves\": 1280,\n",
        "    \"learning_rate\": 0.05,\n",
        "    \"feature_fraction\": 0.85,\n",
        "    \"reg_lambda\": 2,\n",
        "    \"metric\": \"rmse\",\n",
        "}\n",
        "\n",
        "kf = KFold(n_splits=3)\n",
        "models = []\n",
        "for train_index,test_index in kf.split(features):\n",
        "    train_features = features.loc[train_index]\n",
        "    train_target = target.loc[train_index]\n",
        "    \n",
        "    test_features = features.loc[test_index]\n",
        "    test_target = target.loc[test_index]\n",
        "    \n",
        "    d_training = lgb.Dataset(train_features, label=train_target,categorical_feature=categorical_features, free_raw_data=False)\n",
        "    d_test = lgb.Dataset(test_features, label=test_target,categorical_feature=categorical_features, free_raw_data=False)\n",
        "    \n",
        "    model = lgb.train(params, train_set=d_training, num_boost_round=1000, valid_sets=[d_training,d_test], verbose_eval=25, early_stopping_rounds=50)\n",
        "    models.append(model)\n",
        "    del train_features, train_target, test_features, test_target, d_training, d_test\n",
        "    gc.collect()"
      ],
      "execution_count": 0,
      "outputs": [
        {
          "output_type": "stream",
          "text": [
            "Training until validation scores don't improve for 50 rounds\n",
            "[25]\ttraining's rmse: 1.09098\tvalid_1's rmse: 1.24354\n",
            "[50]\ttraining's rmse: 0.88089\tvalid_1's rmse: 1.12603\n",
            "[75]\ttraining's rmse: 0.813926\tvalid_1's rmse: 1.11295\n",
            "[100]\ttraining's rmse: 0.767996\tvalid_1's rmse: 1.11261\n",
            "[125]\ttraining's rmse: 0.736803\tvalid_1's rmse: 1.11387\n",
            "Early stopping, best iteration is:\n",
            "[96]\ttraining's rmse: 0.773661\tvalid_1's rmse: 1.11217\n",
            "Training until validation scores don't improve for 50 rounds\n",
            "[25]\ttraining's rmse: 1.09239\tvalid_1's rmse: 1.21257\n",
            "[50]\ttraining's rmse: 0.881723\tvalid_1's rmse: 1.07465\n",
            "[75]\ttraining's rmse: 0.820672\tvalid_1's rmse: 1.0512\n",
            "[100]\ttraining's rmse: 0.78257\tvalid_1's rmse: 1.04488\n",
            "[125]\ttraining's rmse: 0.753443\tvalid_1's rmse: 1.04311\n",
            "[150]\ttraining's rmse: 0.733083\tvalid_1's rmse: 1.04351\n",
            "[175]\ttraining's rmse: 0.7191\tvalid_1's rmse: 1.04278\n",
            "[200]\ttraining's rmse: 0.708292\tvalid_1's rmse: 1.04344\n",
            "[225]\ttraining's rmse: 0.698643\tvalid_1's rmse: 1.0437\n",
            "Early stopping, best iteration is:\n",
            "[177]\ttraining's rmse: 0.71823\tvalid_1's rmse: 1.04273\n",
            "Training until validation scores don't improve for 50 rounds\n",
            "[25]\ttraining's rmse: 1.06781\tvalid_1's rmse: 1.2574\n",
            "[50]\ttraining's rmse: 0.840235\tvalid_1's rmse: 1.15142\n",
            "[75]\ttraining's rmse: 0.770211\tvalid_1's rmse: 1.14295\n",
            "[100]\ttraining's rmse: 0.728393\tvalid_1's rmse: 1.14582\n",
            "Early stopping, best iteration is:\n",
            "[72]\ttraining's rmse: 0.775874\tvalid_1's rmse: 1.14269\n"
          ],
          "name": "stdout"
        }
      ]
    },
    {
      "cell_type": "code",
      "metadata": {
        "colab_type": "code",
        "id": "85Gh53c6J6N8",
        "colab": {},
        "outputId": "73fef293-9d9d-43b2-d47c-8afa18d7b1dc"
      },
      "source": [
        "del features, target\n",
        "gc.collect()"
      ],
      "execution_count": 0,
      "outputs": [
        {
          "output_type": "execute_result",
          "data": {
            "text/plain": [
              "27"
            ]
          },
          "metadata": {
            "tags": []
          },
          "execution_count": 32
        }
      ]
    },
    {
      "cell_type": "code",
      "metadata": {
        "colab_type": "code",
        "id": "FI4w9gUJVHGS",
        "colab": {}
      },
      "source": [
        "test_df = pd.read_csv('/content/drive/My Drive/Ashrae data/test.csv')"
      ],
      "execution_count": 0,
      "outputs": []
    },
    {
      "cell_type": "code",
      "metadata": {
        "colab_type": "code",
        "id": "vqruAHjgVHJR",
        "colab": {}
      },
      "source": [
        "row_ids = test_df[\"row_id\"]\n",
        "test_df.drop(\"row_id\", axis=1, inplace=True)"
      ],
      "execution_count": 0,
      "outputs": []
    },
    {
      "cell_type": "code",
      "metadata": {
        "colab_type": "code",
        "id": "BaOd1cCZVHOh",
        "outputId": "97a346bb-e77e-4a93-f576-75248222a1dc",
        "colab": {
          "base_uri": "https://localhost:8080/",
          "height": 200
        }
      },
      "source": [
        "test_df.head()"
      ],
      "execution_count": 0,
      "outputs": [
        {
          "output_type": "execute_result",
          "data": {
            "text/html": [
              "<div>\n",
              "<style scoped>\n",
              "    .dataframe tbody tr th:only-of-type {\n",
              "        vertical-align: middle;\n",
              "    }\n",
              "\n",
              "    .dataframe tbody tr th {\n",
              "        vertical-align: top;\n",
              "    }\n",
              "\n",
              "    .dataframe thead th {\n",
              "        text-align: right;\n",
              "    }\n",
              "</style>\n",
              "<table border=\"1\" class=\"dataframe\">\n",
              "  <thead>\n",
              "    <tr style=\"text-align: right;\">\n",
              "      <th></th>\n",
              "      <th>building_id</th>\n",
              "      <th>meter</th>\n",
              "      <th>timestamp</th>\n",
              "    </tr>\n",
              "  </thead>\n",
              "  <tbody>\n",
              "    <tr>\n",
              "      <th>0</th>\n",
              "      <td>0</td>\n",
              "      <td>0</td>\n",
              "      <td>2017-01-01 00:00:00</td>\n",
              "    </tr>\n",
              "    <tr>\n",
              "      <th>1</th>\n",
              "      <td>1</td>\n",
              "      <td>0</td>\n",
              "      <td>2017-01-01 00:00:00</td>\n",
              "    </tr>\n",
              "    <tr>\n",
              "      <th>2</th>\n",
              "      <td>2</td>\n",
              "      <td>0</td>\n",
              "      <td>2017-01-01 00:00:00</td>\n",
              "    </tr>\n",
              "    <tr>\n",
              "      <th>3</th>\n",
              "      <td>3</td>\n",
              "      <td>0</td>\n",
              "      <td>2017-01-01 00:00:00</td>\n",
              "    </tr>\n",
              "    <tr>\n",
              "      <th>4</th>\n",
              "      <td>4</td>\n",
              "      <td>0</td>\n",
              "      <td>2017-01-01 00:00:00</td>\n",
              "    </tr>\n",
              "  </tbody>\n",
              "</table>\n",
              "</div>"
            ],
            "text/plain": [
              "   building_id  meter            timestamp\n",
              "0            0      0  2017-01-01 00:00:00\n",
              "1            1      0  2017-01-01 00:00:00\n",
              "2            2      0  2017-01-01 00:00:00\n",
              "3            3      0  2017-01-01 00:00:00\n",
              "4            4      0  2017-01-01 00:00:00"
            ]
          },
          "metadata": {
            "tags": []
          },
          "execution_count": 17
        }
      ]
    },
    {
      "cell_type": "code",
      "metadata": {
        "colab_type": "code",
        "id": "XrYyKrrcYaIY",
        "outputId": "50904e27-ec33-4f1e-e468-58d1a10f0372",
        "colab": {
          "base_uri": "https://localhost:8080/",
          "height": 34
        }
      },
      "source": [
        "test_df = test_df.merge(building_df,left_on='building_id',right_on='building_id',how='left')\n",
        "del building_df\n",
        "gc.collect()"
      ],
      "execution_count": 0,
      "outputs": [
        {
          "output_type": "execute_result",
          "data": {
            "text/plain": [
              "11"
            ]
          },
          "metadata": {
            "tags": []
          },
          "execution_count": 18
        }
      ]
    },
    {
      "cell_type": "code",
      "metadata": {
        "colab_type": "code",
        "id": "3cZn0dEtJ6RJ",
        "outputId": "cecf38d4-f317-4d6f-a3ec-f93e60e89f07",
        "colab": {
          "base_uri": "https://localhost:8080/",
          "height": 173
        }
      },
      "source": [
        "weather_df_test = pd.read_csv('/content/drive/My Drive/Ashrae data/weather_test.csv')\n",
        "weather_df_test = fill_weather_dataset(weather_df_test)"
      ],
      "execution_count": 0,
      "outputs": [
        {
          "output_type": "stream",
          "text": [
            "/usr/local/lib/python3.6/dist-packages/ipykernel_launcher.py:15: FutureWarning: Sorting because non-concatenation axis is not aligned. A future version\n",
            "of pandas will change to not sort by default.\n",
            "\n",
            "To accept the future behavior, pass 'sort=False'.\n",
            "\n",
            "To retain the current behavior and silence the warning, pass 'sort=True'.\n",
            "\n",
            "  from ipykernel import kernelapp as app\n"
          ],
          "name": "stderr"
        }
      ]
    },
    {
      "cell_type": "code",
      "metadata": {
        "colab_type": "code",
        "id": "AXMlRz8LYHIY",
        "outputId": "4fdfd859-629f-4714-d849-a7bb3ee40ed5",
        "colab": {
          "base_uri": "https://localhost:8080/",
          "height": 200
        }
      },
      "source": [
        "weather_df_test.head()"
      ],
      "execution_count": 0,
      "outputs": [
        {
          "output_type": "execute_result",
          "data": {
            "text/html": [
              "<div>\n",
              "<style scoped>\n",
              "    .dataframe tbody tr th:only-of-type {\n",
              "        vertical-align: middle;\n",
              "    }\n",
              "\n",
              "    .dataframe tbody tr th {\n",
              "        vertical-align: top;\n",
              "    }\n",
              "\n",
              "    .dataframe thead th {\n",
              "        text-align: right;\n",
              "    }\n",
              "</style>\n",
              "<table border=\"1\" class=\"dataframe\">\n",
              "  <thead>\n",
              "    <tr style=\"text-align: right;\">\n",
              "      <th></th>\n",
              "      <th>site_id</th>\n",
              "      <th>air_temperature</th>\n",
              "      <th>cloud_coverage</th>\n",
              "      <th>dew_temperature</th>\n",
              "      <th>precip_depth_1_hr</th>\n",
              "      <th>sea_level_pressure</th>\n",
              "      <th>timestamp</th>\n",
              "      <th>wind_direction</th>\n",
              "      <th>wind_speed</th>\n",
              "    </tr>\n",
              "  </thead>\n",
              "  <tbody>\n",
              "    <tr>\n",
              "      <th>0</th>\n",
              "      <td>0</td>\n",
              "      <td>17.8</td>\n",
              "      <td>4.0</td>\n",
              "      <td>11.7</td>\n",
              "      <td>0.282609</td>\n",
              "      <td>1021.4</td>\n",
              "      <td>2017-01-01 00:00:00</td>\n",
              "      <td>100.0</td>\n",
              "      <td>3.6</td>\n",
              "    </tr>\n",
              "    <tr>\n",
              "      <th>1</th>\n",
              "      <td>0</td>\n",
              "      <td>17.8</td>\n",
              "      <td>2.0</td>\n",
              "      <td>12.8</td>\n",
              "      <td>0.000000</td>\n",
              "      <td>1022.0</td>\n",
              "      <td>2017-01-01 01:00:00</td>\n",
              "      <td>130.0</td>\n",
              "      <td>3.1</td>\n",
              "    </tr>\n",
              "    <tr>\n",
              "      <th>2</th>\n",
              "      <td>0</td>\n",
              "      <td>16.1</td>\n",
              "      <td>0.0</td>\n",
              "      <td>12.8</td>\n",
              "      <td>0.000000</td>\n",
              "      <td>1021.9</td>\n",
              "      <td>2017-01-01 02:00:00</td>\n",
              "      <td>140.0</td>\n",
              "      <td>3.1</td>\n",
              "    </tr>\n",
              "    <tr>\n",
              "      <th>3</th>\n",
              "      <td>0</td>\n",
              "      <td>17.2</td>\n",
              "      <td>0.0</td>\n",
              "      <td>13.3</td>\n",
              "      <td>0.000000</td>\n",
              "      <td>1022.2</td>\n",
              "      <td>2017-01-01 03:00:00</td>\n",
              "      <td>140.0</td>\n",
              "      <td>3.1</td>\n",
              "    </tr>\n",
              "    <tr>\n",
              "      <th>4</th>\n",
              "      <td>0</td>\n",
              "      <td>16.7</td>\n",
              "      <td>2.0</td>\n",
              "      <td>13.3</td>\n",
              "      <td>0.000000</td>\n",
              "      <td>1022.3</td>\n",
              "      <td>2017-01-01 04:00:00</td>\n",
              "      <td>130.0</td>\n",
              "      <td>2.6</td>\n",
              "    </tr>\n",
              "  </tbody>\n",
              "</table>\n",
              "</div>"
            ],
            "text/plain": [
              "   site_id  air_temperature  ...  wind_direction  wind_speed\n",
              "0        0             17.8  ...           100.0         3.6\n",
              "1        0             17.8  ...           130.0         3.1\n",
              "2        0             16.1  ...           140.0         3.1\n",
              "3        0             17.2  ...           140.0         3.1\n",
              "4        0             16.7  ...           130.0         2.6\n",
              "\n",
              "[5 rows x 9 columns]"
            ]
          },
          "metadata": {
            "tags": []
          },
          "execution_count": 20
        }
      ]
    },
    {
      "cell_type": "code",
      "metadata": {
        "colab_type": "code",
        "id": "pRGBAEIDWzXZ",
        "colab": {}
      },
      "source": [
        "test_df = test_df.merge(weather_df_test,how='left',on=['timestamp','site_id'])\n",
        "del weather_df_test\n"
      ],
      "execution_count": 0,
      "outputs": []
    },
    {
      "cell_type": "code",
      "metadata": {
        "colab_type": "code",
        "id": "s9Rf4JAGWzgI",
        "colab": {}
      },
      "source": [
        "test_df = features_engineering(test_df)"
      ],
      "execution_count": 0,
      "outputs": []
    },
    {
      "cell_type": "code",
      "metadata": {
        "colab_type": "code",
        "id": "q2j5BmIXbcHa",
        "outputId": "50064508-2a3a-4bca-bda3-b1ab719c337d",
        "colab": {
          "base_uri": "https://localhost:8080/",
          "height": 306
        }
      },
      "source": [
        "test_df.head()"
      ],
      "execution_count": 0,
      "outputs": [
        {
          "output_type": "execute_result",
          "data": {
            "text/html": [
              "<div>\n",
              "<style scoped>\n",
              "    .dataframe tbody tr th:only-of-type {\n",
              "        vertical-align: middle;\n",
              "    }\n",
              "\n",
              "    .dataframe tbody tr th {\n",
              "        vertical-align: top;\n",
              "    }\n",
              "\n",
              "    .dataframe thead th {\n",
              "        text-align: right;\n",
              "    }\n",
              "</style>\n",
              "<table border=\"1\" class=\"dataframe\">\n",
              "  <thead>\n",
              "    <tr style=\"text-align: right;\">\n",
              "      <th></th>\n",
              "      <th>building_id</th>\n",
              "      <th>meter</th>\n",
              "      <th>timestamp</th>\n",
              "      <th>site_id</th>\n",
              "      <th>primary_use</th>\n",
              "      <th>square_feet</th>\n",
              "      <th>air_temperature</th>\n",
              "      <th>cloud_coverage</th>\n",
              "      <th>dew_temperature</th>\n",
              "      <th>precip_depth_1_hr</th>\n",
              "      <th>sea_level_pressure</th>\n",
              "      <th>wind_direction</th>\n",
              "      <th>wind_speed</th>\n",
              "      <th>hour</th>\n",
              "      <th>weekend</th>\n",
              "      <th>is_holiday</th>\n",
              "    </tr>\n",
              "  </thead>\n",
              "  <tbody>\n",
              "    <tr>\n",
              "      <th>0</th>\n",
              "      <td>0</td>\n",
              "      <td>0</td>\n",
              "      <td>2017-01-01</td>\n",
              "      <td>0</td>\n",
              "      <td>0</td>\n",
              "      <td>8.913685</td>\n",
              "      <td>17.8</td>\n",
              "      <td>4.0</td>\n",
              "      <td>11.7</td>\n",
              "      <td>0.282609</td>\n",
              "      <td>1021.4</td>\n",
              "      <td>100.0</td>\n",
              "      <td>3.6</td>\n",
              "      <td>0</td>\n",
              "      <td>6</td>\n",
              "      <td>0</td>\n",
              "    </tr>\n",
              "    <tr>\n",
              "      <th>1</th>\n",
              "      <td>1</td>\n",
              "      <td>0</td>\n",
              "      <td>2017-01-01</td>\n",
              "      <td>0</td>\n",
              "      <td>0</td>\n",
              "      <td>7.908755</td>\n",
              "      <td>17.8</td>\n",
              "      <td>4.0</td>\n",
              "      <td>11.7</td>\n",
              "      <td>0.282609</td>\n",
              "      <td>1021.4</td>\n",
              "      <td>100.0</td>\n",
              "      <td>3.6</td>\n",
              "      <td>0</td>\n",
              "      <td>6</td>\n",
              "      <td>0</td>\n",
              "    </tr>\n",
              "    <tr>\n",
              "      <th>2</th>\n",
              "      <td>2</td>\n",
              "      <td>0</td>\n",
              "      <td>2017-01-01</td>\n",
              "      <td>0</td>\n",
              "      <td>0</td>\n",
              "      <td>8.589886</td>\n",
              "      <td>17.8</td>\n",
              "      <td>4.0</td>\n",
              "      <td>11.7</td>\n",
              "      <td>0.282609</td>\n",
              "      <td>1021.4</td>\n",
              "      <td>100.0</td>\n",
              "      <td>3.6</td>\n",
              "      <td>0</td>\n",
              "      <td>6</td>\n",
              "      <td>0</td>\n",
              "    </tr>\n",
              "    <tr>\n",
              "      <th>3</th>\n",
              "      <td>3</td>\n",
              "      <td>0</td>\n",
              "      <td>2017-01-01</td>\n",
              "      <td>0</td>\n",
              "      <td>0</td>\n",
              "      <td>10.072639</td>\n",
              "      <td>17.8</td>\n",
              "      <td>4.0</td>\n",
              "      <td>11.7</td>\n",
              "      <td>0.282609</td>\n",
              "      <td>1021.4</td>\n",
              "      <td>100.0</td>\n",
              "      <td>3.6</td>\n",
              "      <td>0</td>\n",
              "      <td>6</td>\n",
              "      <td>0</td>\n",
              "    </tr>\n",
              "    <tr>\n",
              "      <th>4</th>\n",
              "      <td>4</td>\n",
              "      <td>0</td>\n",
              "      <td>2017-01-01</td>\n",
              "      <td>0</td>\n",
              "      <td>0</td>\n",
              "      <td>11.666573</td>\n",
              "      <td>17.8</td>\n",
              "      <td>4.0</td>\n",
              "      <td>11.7</td>\n",
              "      <td>0.282609</td>\n",
              "      <td>1021.4</td>\n",
              "      <td>100.0</td>\n",
              "      <td>3.6</td>\n",
              "      <td>0</td>\n",
              "      <td>6</td>\n",
              "      <td>0</td>\n",
              "    </tr>\n",
              "  </tbody>\n",
              "</table>\n",
              "</div>"
            ],
            "text/plain": [
              "   building_id  meter  timestamp  ...  hour  weekend  is_holiday\n",
              "0            0      0 2017-01-01  ...     0        6           0\n",
              "1            1      0 2017-01-01  ...     0        6           0\n",
              "2            2      0 2017-01-01  ...     0        6           0\n",
              "3            3      0 2017-01-01  ...     0        6           0\n",
              "4            4      0 2017-01-01  ...     0        6           0\n",
              "\n",
              "[5 rows x 16 columns]"
            ]
          },
          "metadata": {
            "tags": []
          },
          "execution_count": 23
        }
      ]
    },
    {
      "cell_type": "code",
      "metadata": {
        "colab_type": "code",
        "id": "nEM-qnIrP8gy",
        "colab": {}
      },
      "source": [
        "test_df.to_csv('/content/drive/My Drive/Ashrae data/test_tidy_temp.csv')"
      ],
      "execution_count": 0,
      "outputs": []
    },
    {
      "cell_type": "markdown",
      "metadata": {
        "id": "1eBSOn5fEFIY",
        "colab_type": "text"
      },
      "source": [
        "---"
      ]
    },
    {
      "cell_type": "code",
      "metadata": {
        "id": "71W-ySPnEFIZ",
        "colab_type": "code",
        "colab": {}
      },
      "source": [
        "test_df1 = pd.read_csv(\"C:\\\\Users\\\\Sanjan\\\\Desktop\\\\Ashrae data\\\\test_tidy_temp.csv\")"
      ],
      "execution_count": 0,
      "outputs": []
    },
    {
      "cell_type": "markdown",
      "metadata": {
        "id": "nNSWgUTeEFId",
        "colab_type": "text"
      },
      "source": [
        "---"
      ]
    },
    {
      "cell_type": "code",
      "metadata": {
        "id": "Xwj9XUehEFIf",
        "colab_type": "code",
        "colab": {},
        "outputId": "f37720c4-516f-4cb7-fcab-c5a87a48f9e7"
      },
      "source": [
        "test_df1.head()"
      ],
      "execution_count": 0,
      "outputs": [
        {
          "output_type": "execute_result",
          "data": {
            "text/html": [
              "<div>\n",
              "<style scoped>\n",
              "    .dataframe tbody tr th:only-of-type {\n",
              "        vertical-align: middle;\n",
              "    }\n",
              "\n",
              "    .dataframe tbody tr th {\n",
              "        vertical-align: top;\n",
              "    }\n",
              "\n",
              "    .dataframe thead th {\n",
              "        text-align: right;\n",
              "    }\n",
              "</style>\n",
              "<table border=\"1\" class=\"dataframe\">\n",
              "  <thead>\n",
              "    <tr style=\"text-align: right;\">\n",
              "      <th></th>\n",
              "      <th>Unnamed: 0</th>\n",
              "      <th>building_id</th>\n",
              "      <th>meter</th>\n",
              "      <th>timestamp</th>\n",
              "      <th>site_id</th>\n",
              "      <th>primary_use</th>\n",
              "      <th>square_feet</th>\n",
              "      <th>air_temperature</th>\n",
              "      <th>cloud_coverage</th>\n",
              "      <th>dew_temperature</th>\n",
              "      <th>precip_depth_1_hr</th>\n",
              "      <th>sea_level_pressure</th>\n",
              "      <th>wind_direction</th>\n",
              "      <th>wind_speed</th>\n",
              "      <th>hour</th>\n",
              "      <th>weekend</th>\n",
              "      <th>is_holiday</th>\n",
              "    </tr>\n",
              "  </thead>\n",
              "  <tbody>\n",
              "    <tr>\n",
              "      <th>0</th>\n",
              "      <td>0</td>\n",
              "      <td>0</td>\n",
              "      <td>0</td>\n",
              "      <td>2017-01-01 00:00:00</td>\n",
              "      <td>0</td>\n",
              "      <td>0</td>\n",
              "      <td>8.913685</td>\n",
              "      <td>17.8</td>\n",
              "      <td>4.0</td>\n",
              "      <td>11.7</td>\n",
              "      <td>0.282609</td>\n",
              "      <td>1021.4</td>\n",
              "      <td>100.0</td>\n",
              "      <td>3.6</td>\n",
              "      <td>0</td>\n",
              "      <td>6</td>\n",
              "      <td>0</td>\n",
              "    </tr>\n",
              "    <tr>\n",
              "      <th>1</th>\n",
              "      <td>1</td>\n",
              "      <td>1</td>\n",
              "      <td>0</td>\n",
              "      <td>2017-01-01 00:00:00</td>\n",
              "      <td>0</td>\n",
              "      <td>0</td>\n",
              "      <td>7.908755</td>\n",
              "      <td>17.8</td>\n",
              "      <td>4.0</td>\n",
              "      <td>11.7</td>\n",
              "      <td>0.282609</td>\n",
              "      <td>1021.4</td>\n",
              "      <td>100.0</td>\n",
              "      <td>3.6</td>\n",
              "      <td>0</td>\n",
              "      <td>6</td>\n",
              "      <td>0</td>\n",
              "    </tr>\n",
              "    <tr>\n",
              "      <th>2</th>\n",
              "      <td>2</td>\n",
              "      <td>2</td>\n",
              "      <td>0</td>\n",
              "      <td>2017-01-01 00:00:00</td>\n",
              "      <td>0</td>\n",
              "      <td>0</td>\n",
              "      <td>8.589886</td>\n",
              "      <td>17.8</td>\n",
              "      <td>4.0</td>\n",
              "      <td>11.7</td>\n",
              "      <td>0.282609</td>\n",
              "      <td>1021.4</td>\n",
              "      <td>100.0</td>\n",
              "      <td>3.6</td>\n",
              "      <td>0</td>\n",
              "      <td>6</td>\n",
              "      <td>0</td>\n",
              "    </tr>\n",
              "    <tr>\n",
              "      <th>3</th>\n",
              "      <td>3</td>\n",
              "      <td>3</td>\n",
              "      <td>0</td>\n",
              "      <td>2017-01-01 00:00:00</td>\n",
              "      <td>0</td>\n",
              "      <td>0</td>\n",
              "      <td>10.072639</td>\n",
              "      <td>17.8</td>\n",
              "      <td>4.0</td>\n",
              "      <td>11.7</td>\n",
              "      <td>0.282609</td>\n",
              "      <td>1021.4</td>\n",
              "      <td>100.0</td>\n",
              "      <td>3.6</td>\n",
              "      <td>0</td>\n",
              "      <td>6</td>\n",
              "      <td>0</td>\n",
              "    </tr>\n",
              "    <tr>\n",
              "      <th>4</th>\n",
              "      <td>4</td>\n",
              "      <td>4</td>\n",
              "      <td>0</td>\n",
              "      <td>2017-01-01 00:00:00</td>\n",
              "      <td>0</td>\n",
              "      <td>0</td>\n",
              "      <td>11.666573</td>\n",
              "      <td>17.8</td>\n",
              "      <td>4.0</td>\n",
              "      <td>11.7</td>\n",
              "      <td>0.282609</td>\n",
              "      <td>1021.4</td>\n",
              "      <td>100.0</td>\n",
              "      <td>3.6</td>\n",
              "      <td>0</td>\n",
              "      <td>6</td>\n",
              "      <td>0</td>\n",
              "    </tr>\n",
              "  </tbody>\n",
              "</table>\n",
              "</div>"
            ],
            "text/plain": [
              "   Unnamed: 0  building_id  meter            timestamp  site_id  primary_use  \\\n",
              "0           0            0      0  2017-01-01 00:00:00        0            0   \n",
              "1           1            1      0  2017-01-01 00:00:00        0            0   \n",
              "2           2            2      0  2017-01-01 00:00:00        0            0   \n",
              "3           3            3      0  2017-01-01 00:00:00        0            0   \n",
              "4           4            4      0  2017-01-01 00:00:00        0            0   \n",
              "\n",
              "   square_feet  air_temperature  cloud_coverage  dew_temperature  \\\n",
              "0     8.913685             17.8             4.0             11.7   \n",
              "1     7.908755             17.8             4.0             11.7   \n",
              "2     8.589886             17.8             4.0             11.7   \n",
              "3    10.072639             17.8             4.0             11.7   \n",
              "4    11.666573             17.8             4.0             11.7   \n",
              "\n",
              "   precip_depth_1_hr  sea_level_pressure  wind_direction  wind_speed  hour  \\\n",
              "0           0.282609              1021.4           100.0         3.6     0   \n",
              "1           0.282609              1021.4           100.0         3.6     0   \n",
              "2           0.282609              1021.4           100.0         3.6     0   \n",
              "3           0.282609              1021.4           100.0         3.6     0   \n",
              "4           0.282609              1021.4           100.0         3.6     0   \n",
              "\n",
              "   weekend  is_holiday  \n",
              "0        6           0  \n",
              "1        6           0  \n",
              "2        6           0  \n",
              "3        6           0  \n",
              "4        6           0  "
            ]
          },
          "metadata": {
            "tags": []
          },
          "execution_count": 45
        }
      ]
    },
    {
      "cell_type": "code",
      "metadata": {
        "colab_type": "code",
        "id": "odUXRxJ4P8d3",
        "colab": {}
      },
      "source": [
        "test_df_final = test_df1.drop(columns=[\"timestamp\",\"Unnamed: 0\"])\n",
        "#test_df_final = test_df1.drop(columns=\"Unnamed: 0\")"
      ],
      "execution_count": 0,
      "outputs": []
    },
    {
      "cell_type": "code",
      "metadata": {
        "id": "BgYd98MwEFIm",
        "colab_type": "code",
        "colab": {},
        "outputId": "d56f5264-8d38-4eb7-9761-e4f9225c0f7f"
      },
      "source": [
        "test_df_final.head()"
      ],
      "execution_count": 0,
      "outputs": [
        {
          "output_type": "execute_result",
          "data": {
            "text/html": [
              "<div>\n",
              "<style scoped>\n",
              "    .dataframe tbody tr th:only-of-type {\n",
              "        vertical-align: middle;\n",
              "    }\n",
              "\n",
              "    .dataframe tbody tr th {\n",
              "        vertical-align: top;\n",
              "    }\n",
              "\n",
              "    .dataframe thead th {\n",
              "        text-align: right;\n",
              "    }\n",
              "</style>\n",
              "<table border=\"1\" class=\"dataframe\">\n",
              "  <thead>\n",
              "    <tr style=\"text-align: right;\">\n",
              "      <th></th>\n",
              "      <th>building_id</th>\n",
              "      <th>meter</th>\n",
              "      <th>site_id</th>\n",
              "      <th>primary_use</th>\n",
              "      <th>square_feet</th>\n",
              "      <th>air_temperature</th>\n",
              "      <th>cloud_coverage</th>\n",
              "      <th>dew_temperature</th>\n",
              "      <th>precip_depth_1_hr</th>\n",
              "      <th>sea_level_pressure</th>\n",
              "      <th>wind_direction</th>\n",
              "      <th>wind_speed</th>\n",
              "      <th>hour</th>\n",
              "      <th>weekend</th>\n",
              "      <th>is_holiday</th>\n",
              "    </tr>\n",
              "  </thead>\n",
              "  <tbody>\n",
              "    <tr>\n",
              "      <th>0</th>\n",
              "      <td>0</td>\n",
              "      <td>0</td>\n",
              "      <td>0</td>\n",
              "      <td>0</td>\n",
              "      <td>8.913685</td>\n",
              "      <td>17.8</td>\n",
              "      <td>4.0</td>\n",
              "      <td>11.7</td>\n",
              "      <td>0.282609</td>\n",
              "      <td>1021.4</td>\n",
              "      <td>100.0</td>\n",
              "      <td>3.6</td>\n",
              "      <td>0</td>\n",
              "      <td>6</td>\n",
              "      <td>0</td>\n",
              "    </tr>\n",
              "    <tr>\n",
              "      <th>1</th>\n",
              "      <td>1</td>\n",
              "      <td>0</td>\n",
              "      <td>0</td>\n",
              "      <td>0</td>\n",
              "      <td>7.908755</td>\n",
              "      <td>17.8</td>\n",
              "      <td>4.0</td>\n",
              "      <td>11.7</td>\n",
              "      <td>0.282609</td>\n",
              "      <td>1021.4</td>\n",
              "      <td>100.0</td>\n",
              "      <td>3.6</td>\n",
              "      <td>0</td>\n",
              "      <td>6</td>\n",
              "      <td>0</td>\n",
              "    </tr>\n",
              "    <tr>\n",
              "      <th>2</th>\n",
              "      <td>2</td>\n",
              "      <td>0</td>\n",
              "      <td>0</td>\n",
              "      <td>0</td>\n",
              "      <td>8.589886</td>\n",
              "      <td>17.8</td>\n",
              "      <td>4.0</td>\n",
              "      <td>11.7</td>\n",
              "      <td>0.282609</td>\n",
              "      <td>1021.4</td>\n",
              "      <td>100.0</td>\n",
              "      <td>3.6</td>\n",
              "      <td>0</td>\n",
              "      <td>6</td>\n",
              "      <td>0</td>\n",
              "    </tr>\n",
              "    <tr>\n",
              "      <th>3</th>\n",
              "      <td>3</td>\n",
              "      <td>0</td>\n",
              "      <td>0</td>\n",
              "      <td>0</td>\n",
              "      <td>10.072639</td>\n",
              "      <td>17.8</td>\n",
              "      <td>4.0</td>\n",
              "      <td>11.7</td>\n",
              "      <td>0.282609</td>\n",
              "      <td>1021.4</td>\n",
              "      <td>100.0</td>\n",
              "      <td>3.6</td>\n",
              "      <td>0</td>\n",
              "      <td>6</td>\n",
              "      <td>0</td>\n",
              "    </tr>\n",
              "    <tr>\n",
              "      <th>4</th>\n",
              "      <td>4</td>\n",
              "      <td>0</td>\n",
              "      <td>0</td>\n",
              "      <td>0</td>\n",
              "      <td>11.666573</td>\n",
              "      <td>17.8</td>\n",
              "      <td>4.0</td>\n",
              "      <td>11.7</td>\n",
              "      <td>0.282609</td>\n",
              "      <td>1021.4</td>\n",
              "      <td>100.0</td>\n",
              "      <td>3.6</td>\n",
              "      <td>0</td>\n",
              "      <td>6</td>\n",
              "      <td>0</td>\n",
              "    </tr>\n",
              "  </tbody>\n",
              "</table>\n",
              "</div>"
            ],
            "text/plain": [
              "   building_id  meter  site_id  primary_use  square_feet  air_temperature  \\\n",
              "0            0      0        0            0     8.913685             17.8   \n",
              "1            1      0        0            0     7.908755             17.8   \n",
              "2            2      0        0            0     8.589886             17.8   \n",
              "3            3      0        0            0    10.072639             17.8   \n",
              "4            4      0        0            0    11.666573             17.8   \n",
              "\n",
              "   cloud_coverage  dew_temperature  precip_depth_1_hr  sea_level_pressure  \\\n",
              "0             4.0             11.7           0.282609              1021.4   \n",
              "1             4.0             11.7           0.282609              1021.4   \n",
              "2             4.0             11.7           0.282609              1021.4   \n",
              "3             4.0             11.7           0.282609              1021.4   \n",
              "4             4.0             11.7           0.282609              1021.4   \n",
              "\n",
              "   wind_direction  wind_speed  hour  weekend  is_holiday  \n",
              "0           100.0         3.6     0        6           0  \n",
              "1           100.0         3.6     0        6           0  \n",
              "2           100.0         3.6     0        6           0  \n",
              "3           100.0         3.6     0        6           0  \n",
              "4           100.0         3.6     0        6           0  "
            ]
          },
          "metadata": {
            "tags": []
          },
          "execution_count": 47
        }
      ]
    },
    {
      "cell_type": "code",
      "metadata": {
        "colab_type": "code",
        "id": "7tkeldcLbofd",
        "outputId": "a9cfad5a-249c-44c9-c311-b993509c2e2b",
        "colab": {
          "base_uri": "https://localhost:8080/",
          "height": 233
        }
      },
      "source": [
        "results = []\n",
        "for model in models:\n",
        "    if  results == []:\n",
        "        results = np.expm1(model.predict(test_df_final, num_iteration=model.best_iteration)) / len(models)\n",
        "    else:\n",
        "        results += np.expm1(model.predict(test_df_final, num_iteration=model.best_iteration)) / len(models)\n",
        "    del model\n",
        "    gc.collect()"
      ],
      "execution_count": 0,
      "outputs": [
        {
          "output_type": "error",
          "ename": "MemoryError",
          "evalue": "",
          "traceback": [
            "\u001b[1;31m---------------------------------------------------------------------------\u001b[0m",
            "\u001b[1;31mMemoryError\u001b[0m                               Traceback (most recent call last)",
            "\u001b[1;32m<ipython-input-49-8bc10d190564>\u001b[0m in \u001b[0;36m<module>\u001b[1;34m\u001b[0m\n\u001b[0;32m      2\u001b[0m \u001b[1;32mfor\u001b[0m \u001b[0mmodel\u001b[0m \u001b[1;32min\u001b[0m \u001b[0mmodels\u001b[0m\u001b[1;33m:\u001b[0m\u001b[1;33m\u001b[0m\u001b[1;33m\u001b[0m\u001b[0m\n\u001b[0;32m      3\u001b[0m     \u001b[1;32mif\u001b[0m  \u001b[0mresults\u001b[0m \u001b[1;33m==\u001b[0m \u001b[1;33m[\u001b[0m\u001b[1;33m]\u001b[0m\u001b[1;33m:\u001b[0m\u001b[1;33m\u001b[0m\u001b[1;33m\u001b[0m\u001b[0m\n\u001b[1;32m----> 4\u001b[1;33m         \u001b[0mresults\u001b[0m \u001b[1;33m=\u001b[0m \u001b[0mnp\u001b[0m\u001b[1;33m.\u001b[0m\u001b[0mexpm1\u001b[0m\u001b[1;33m(\u001b[0m\u001b[0mmodel\u001b[0m\u001b[1;33m.\u001b[0m\u001b[0mpredict\u001b[0m\u001b[1;33m(\u001b[0m\u001b[0mtest_df_final\u001b[0m\u001b[1;33m,\u001b[0m \u001b[0mnum_iteration\u001b[0m\u001b[1;33m=\u001b[0m\u001b[0mmodel\u001b[0m\u001b[1;33m.\u001b[0m\u001b[0mbest_iteration\u001b[0m\u001b[1;33m)\u001b[0m\u001b[1;33m)\u001b[0m \u001b[1;33m/\u001b[0m \u001b[0mlen\u001b[0m\u001b[1;33m(\u001b[0m\u001b[0mmodels\u001b[0m\u001b[1;33m)\u001b[0m\u001b[1;33m\u001b[0m\u001b[1;33m\u001b[0m\u001b[0m\n\u001b[0m\u001b[0;32m      5\u001b[0m     \u001b[1;32melse\u001b[0m\u001b[1;33m:\u001b[0m\u001b[1;33m\u001b[0m\u001b[1;33m\u001b[0m\u001b[0m\n\u001b[0;32m      6\u001b[0m         \u001b[0mresults\u001b[0m \u001b[1;33m+=\u001b[0m \u001b[0mnp\u001b[0m\u001b[1;33m.\u001b[0m\u001b[0mexpm1\u001b[0m\u001b[1;33m(\u001b[0m\u001b[0mmodel\u001b[0m\u001b[1;33m.\u001b[0m\u001b[0mpredict\u001b[0m\u001b[1;33m(\u001b[0m\u001b[0mtest_df_final\u001b[0m\u001b[1;33m,\u001b[0m \u001b[0mnum_iteration\u001b[0m\u001b[1;33m=\u001b[0m\u001b[0mmodel\u001b[0m\u001b[1;33m.\u001b[0m\u001b[0mbest_iteration\u001b[0m\u001b[1;33m)\u001b[0m\u001b[1;33m)\u001b[0m \u001b[1;33m/\u001b[0m \u001b[0mlen\u001b[0m\u001b[1;33m(\u001b[0m\u001b[0mmodels\u001b[0m\u001b[1;33m)\u001b[0m\u001b[1;33m\u001b[0m\u001b[1;33m\u001b[0m\u001b[0m\n",
            "\u001b[1;32m~\\Anaconda3\\lib\\site-packages\\lightgbm\\basic.py\u001b[0m in \u001b[0;36mpredict\u001b[1;34m(self, data, num_iteration, raw_score, pred_leaf, pred_contrib, data_has_header, is_reshape, **kwargs)\u001b[0m\n\u001b[0;32m   2363\u001b[0m         return predictor.predict(data, num_iteration,\n\u001b[0;32m   2364\u001b[0m                                  \u001b[0mraw_score\u001b[0m\u001b[1;33m,\u001b[0m \u001b[0mpred_leaf\u001b[0m\u001b[1;33m,\u001b[0m \u001b[0mpred_contrib\u001b[0m\u001b[1;33m,\u001b[0m\u001b[1;33m\u001b[0m\u001b[1;33m\u001b[0m\u001b[0m\n\u001b[1;32m-> 2365\u001b[1;33m                                  data_has_header, is_reshape)\n\u001b[0m\u001b[0;32m   2366\u001b[0m \u001b[1;33m\u001b[0m\u001b[0m\n\u001b[0;32m   2367\u001b[0m     \u001b[1;32mdef\u001b[0m \u001b[0mrefit\u001b[0m\u001b[1;33m(\u001b[0m\u001b[0mself\u001b[0m\u001b[1;33m,\u001b[0m \u001b[0mdata\u001b[0m\u001b[1;33m,\u001b[0m \u001b[0mlabel\u001b[0m\u001b[1;33m,\u001b[0m \u001b[0mdecay_rate\u001b[0m\u001b[1;33m=\u001b[0m\u001b[1;36m0.9\u001b[0m\u001b[1;33m,\u001b[0m \u001b[1;33m**\u001b[0m\u001b[0mkwargs\u001b[0m\u001b[1;33m)\u001b[0m\u001b[1;33m:\u001b[0m\u001b[1;33m\u001b[0m\u001b[1;33m\u001b[0m\u001b[0m\n",
            "\u001b[1;32m~\\Anaconda3\\lib\\site-packages\\lightgbm\\basic.py\u001b[0m in \u001b[0;36mpredict\u001b[1;34m(self, data, num_iteration, raw_score, pred_leaf, pred_contrib, data_has_header, is_reshape)\u001b[0m\n\u001b[0;32m    453\u001b[0m         \u001b[1;32mif\u001b[0m \u001b[0misinstance\u001b[0m\u001b[1;33m(\u001b[0m\u001b[0mdata\u001b[0m\u001b[1;33m,\u001b[0m \u001b[0mDataset\u001b[0m\u001b[1;33m)\u001b[0m\u001b[1;33m:\u001b[0m\u001b[1;33m\u001b[0m\u001b[1;33m\u001b[0m\u001b[0m\n\u001b[0;32m    454\u001b[0m             \u001b[1;32mraise\u001b[0m \u001b[0mTypeError\u001b[0m\u001b[1;33m(\u001b[0m\u001b[1;34m\"Cannot use Dataset instance for prediction, please use raw data instead\"\u001b[0m\u001b[1;33m)\u001b[0m\u001b[1;33m\u001b[0m\u001b[1;33m\u001b[0m\u001b[0m\n\u001b[1;32m--> 455\u001b[1;33m         \u001b[0mdata\u001b[0m \u001b[1;33m=\u001b[0m \u001b[0m_data_from_pandas\u001b[0m\u001b[1;33m(\u001b[0m\u001b[0mdata\u001b[0m\u001b[1;33m,\u001b[0m \u001b[1;32mNone\u001b[0m\u001b[1;33m,\u001b[0m \u001b[1;32mNone\u001b[0m\u001b[1;33m,\u001b[0m \u001b[0mself\u001b[0m\u001b[1;33m.\u001b[0m\u001b[0mpandas_categorical\u001b[0m\u001b[1;33m)\u001b[0m\u001b[1;33m[\u001b[0m\u001b[1;36m0\u001b[0m\u001b[1;33m]\u001b[0m\u001b[1;33m\u001b[0m\u001b[1;33m\u001b[0m\u001b[0m\n\u001b[0m\u001b[0;32m    456\u001b[0m         \u001b[0mpredict_type\u001b[0m \u001b[1;33m=\u001b[0m \u001b[0mC_API_PREDICT_NORMAL\u001b[0m\u001b[1;33m\u001b[0m\u001b[1;33m\u001b[0m\u001b[0m\n\u001b[0;32m    457\u001b[0m         \u001b[1;32mif\u001b[0m \u001b[0mraw_score\u001b[0m\u001b[1;33m:\u001b[0m\u001b[1;33m\u001b[0m\u001b[1;33m\u001b[0m\u001b[0m\n",
            "\u001b[1;32m~\\Anaconda3\\lib\\site-packages\\lightgbm\\basic.py\u001b[0m in \u001b[0;36m_data_from_pandas\u001b[1;34m(data, feature_name, categorical_feature, pandas_categorical)\u001b[0m\n\u001b[0;32m    266\u001b[0m             \u001b[1;32mraise\u001b[0m \u001b[0mValueError\u001b[0m\u001b[1;33m(\u001b[0m\u001b[1;34m'Input data must be 2 dimensional and non empty.'\u001b[0m\u001b[1;33m)\u001b[0m\u001b[1;33m\u001b[0m\u001b[1;33m\u001b[0m\u001b[0m\n\u001b[0;32m    267\u001b[0m         \u001b[1;32mif\u001b[0m \u001b[0mfeature_name\u001b[0m \u001b[1;33m==\u001b[0m \u001b[1;34m'auto'\u001b[0m \u001b[1;32mor\u001b[0m \u001b[0mfeature_name\u001b[0m \u001b[1;32mis\u001b[0m \u001b[1;32mNone\u001b[0m\u001b[1;33m:\u001b[0m\u001b[1;33m\u001b[0m\u001b[1;33m\u001b[0m\u001b[0m\n\u001b[1;32m--> 268\u001b[1;33m             \u001b[0mdata\u001b[0m \u001b[1;33m=\u001b[0m \u001b[0mdata\u001b[0m\u001b[1;33m.\u001b[0m\u001b[0mrename\u001b[0m\u001b[1;33m(\u001b[0m\u001b[0mcolumns\u001b[0m\u001b[1;33m=\u001b[0m\u001b[0mstr\u001b[0m\u001b[1;33m)\u001b[0m\u001b[1;33m\u001b[0m\u001b[1;33m\u001b[0m\u001b[0m\n\u001b[0m\u001b[0;32m    269\u001b[0m         \u001b[0mcat_cols\u001b[0m \u001b[1;33m=\u001b[0m \u001b[0mlist\u001b[0m\u001b[1;33m(\u001b[0m\u001b[0mdata\u001b[0m\u001b[1;33m.\u001b[0m\u001b[0mselect_dtypes\u001b[0m\u001b[1;33m(\u001b[0m\u001b[0minclude\u001b[0m\u001b[1;33m=\u001b[0m\u001b[1;33m[\u001b[0m\u001b[1;34m'category'\u001b[0m\u001b[1;33m]\u001b[0m\u001b[1;33m)\u001b[0m\u001b[1;33m.\u001b[0m\u001b[0mcolumns\u001b[0m\u001b[1;33m)\u001b[0m\u001b[1;33m\u001b[0m\u001b[1;33m\u001b[0m\u001b[0m\n\u001b[0;32m    270\u001b[0m         \u001b[0mcat_cols_not_ordered\u001b[0m \u001b[1;33m=\u001b[0m \u001b[1;33m[\u001b[0m\u001b[0mcol\u001b[0m \u001b[1;32mfor\u001b[0m \u001b[0mcol\u001b[0m \u001b[1;32min\u001b[0m \u001b[0mcat_cols\u001b[0m \u001b[1;32mif\u001b[0m \u001b[1;32mnot\u001b[0m \u001b[0mdata\u001b[0m\u001b[1;33m[\u001b[0m\u001b[0mcol\u001b[0m\u001b[1;33m]\u001b[0m\u001b[1;33m.\u001b[0m\u001b[0mcat\u001b[0m\u001b[1;33m.\u001b[0m\u001b[0mordered\u001b[0m\u001b[1;33m]\u001b[0m\u001b[1;33m\u001b[0m\u001b[1;33m\u001b[0m\u001b[0m\n",
            "\u001b[1;32m~\\Anaconda3\\lib\\site-packages\\pandas\\util\\_decorators.py\u001b[0m in \u001b[0;36mwrapper\u001b[1;34m(*args, **kwargs)\u001b[0m\n\u001b[0;32m    195\u001b[0m         \u001b[1;33m@\u001b[0m\u001b[0mwraps\u001b[0m\u001b[1;33m(\u001b[0m\u001b[0mfunc\u001b[0m\u001b[1;33m)\u001b[0m\u001b[1;33m\u001b[0m\u001b[1;33m\u001b[0m\u001b[0m\n\u001b[0;32m    196\u001b[0m         \u001b[1;32mdef\u001b[0m \u001b[0mwrapper\u001b[0m\u001b[1;33m(\u001b[0m\u001b[1;33m*\u001b[0m\u001b[0margs\u001b[0m\u001b[1;33m,\u001b[0m \u001b[1;33m**\u001b[0m\u001b[0mkwargs\u001b[0m\u001b[1;33m)\u001b[0m\u001b[1;33m:\u001b[0m\u001b[1;33m\u001b[0m\u001b[1;33m\u001b[0m\u001b[0m\n\u001b[1;32m--> 197\u001b[1;33m             \u001b[1;32mreturn\u001b[0m \u001b[0mfunc\u001b[0m\u001b[1;33m(\u001b[0m\u001b[1;33m*\u001b[0m\u001b[0margs\u001b[0m\u001b[1;33m,\u001b[0m \u001b[1;33m**\u001b[0m\u001b[0mkwargs\u001b[0m\u001b[1;33m)\u001b[0m\u001b[1;33m\u001b[0m\u001b[1;33m\u001b[0m\u001b[0m\n\u001b[0m\u001b[0;32m    198\u001b[0m \u001b[1;33m\u001b[0m\u001b[0m\n\u001b[0;32m    199\u001b[0m         \u001b[1;32mif\u001b[0m \u001b[1;32mnot\u001b[0m \u001b[0mPY2\u001b[0m\u001b[1;33m:\u001b[0m\u001b[1;33m\u001b[0m\u001b[1;33m\u001b[0m\u001b[0m\n",
            "\u001b[1;32m~\\Anaconda3\\lib\\site-packages\\pandas\\core\\frame.py\u001b[0m in \u001b[0;36mrename\u001b[1;34m(self, *args, **kwargs)\u001b[0m\n\u001b[0;32m   4023\u001b[0m         \u001b[0mkwargs\u001b[0m\u001b[1;33m.\u001b[0m\u001b[0mpop\u001b[0m\u001b[1;33m(\u001b[0m\u001b[1;34m'axis'\u001b[0m\u001b[1;33m,\u001b[0m \u001b[1;32mNone\u001b[0m\u001b[1;33m)\u001b[0m\u001b[1;33m\u001b[0m\u001b[1;33m\u001b[0m\u001b[0m\n\u001b[0;32m   4024\u001b[0m         \u001b[0mkwargs\u001b[0m\u001b[1;33m.\u001b[0m\u001b[0mpop\u001b[0m\u001b[1;33m(\u001b[0m\u001b[1;34m'mapper'\u001b[0m\u001b[1;33m,\u001b[0m \u001b[1;32mNone\u001b[0m\u001b[1;33m)\u001b[0m\u001b[1;33m\u001b[0m\u001b[1;33m\u001b[0m\u001b[0m\n\u001b[1;32m-> 4025\u001b[1;33m         \u001b[1;32mreturn\u001b[0m \u001b[0msuper\u001b[0m\u001b[1;33m(\u001b[0m\u001b[0mDataFrame\u001b[0m\u001b[1;33m,\u001b[0m \u001b[0mself\u001b[0m\u001b[1;33m)\u001b[0m\u001b[1;33m.\u001b[0m\u001b[0mrename\u001b[0m\u001b[1;33m(\u001b[0m\u001b[1;33m**\u001b[0m\u001b[0mkwargs\u001b[0m\u001b[1;33m)\u001b[0m\u001b[1;33m\u001b[0m\u001b[1;33m\u001b[0m\u001b[0m\n\u001b[0m\u001b[0;32m   4026\u001b[0m \u001b[1;33m\u001b[0m\u001b[0m\n\u001b[0;32m   4027\u001b[0m     \u001b[1;33m@\u001b[0m\u001b[0mSubstitution\u001b[0m\u001b[1;33m(\u001b[0m\u001b[1;33m**\u001b[0m\u001b[0m_shared_doc_kwargs\u001b[0m\u001b[1;33m)\u001b[0m\u001b[1;33m\u001b[0m\u001b[1;33m\u001b[0m\u001b[0m\n",
            "\u001b[1;32m~\\Anaconda3\\lib\\site-packages\\pandas\\core\\generic.py\u001b[0m in \u001b[0;36mrename\u001b[1;34m(self, *args, **kwargs)\u001b[0m\n\u001b[0;32m   1076\u001b[0m \u001b[1;33m\u001b[0m\u001b[0m\n\u001b[0;32m   1077\u001b[0m         \u001b[0mself\u001b[0m\u001b[1;33m.\u001b[0m\u001b[0m_consolidate_inplace\u001b[0m\u001b[1;33m(\u001b[0m\u001b[1;33m)\u001b[0m\u001b[1;33m\u001b[0m\u001b[1;33m\u001b[0m\u001b[0m\n\u001b[1;32m-> 1078\u001b[1;33m         \u001b[0mresult\u001b[0m \u001b[1;33m=\u001b[0m \u001b[0mself\u001b[0m \u001b[1;32mif\u001b[0m \u001b[0minplace\u001b[0m \u001b[1;32melse\u001b[0m \u001b[0mself\u001b[0m\u001b[1;33m.\u001b[0m\u001b[0mcopy\u001b[0m\u001b[1;33m(\u001b[0m\u001b[0mdeep\u001b[0m\u001b[1;33m=\u001b[0m\u001b[0mcopy\u001b[0m\u001b[1;33m)\u001b[0m\u001b[1;33m\u001b[0m\u001b[1;33m\u001b[0m\u001b[0m\n\u001b[0m\u001b[0;32m   1079\u001b[0m \u001b[1;33m\u001b[0m\u001b[0m\n\u001b[0;32m   1080\u001b[0m         \u001b[1;31m# start in the axis order to eliminate too many copies\u001b[0m\u001b[1;33m\u001b[0m\u001b[1;33m\u001b[0m\u001b[1;33m\u001b[0m\u001b[0m\n",
            "\u001b[1;32m~\\Anaconda3\\lib\\site-packages\\pandas\\core\\generic.py\u001b[0m in \u001b[0;36mcopy\u001b[1;34m(self, deep)\u001b[0m\n\u001b[0;32m   5802\u001b[0m         \u001b[0mdtype\u001b[0m\u001b[1;33m:\u001b[0m \u001b[0mobject\u001b[0m\u001b[1;33m\u001b[0m\u001b[1;33m\u001b[0m\u001b[0m\n\u001b[0;32m   5803\u001b[0m         \"\"\"\n\u001b[1;32m-> 5804\u001b[1;33m         \u001b[0mdata\u001b[0m \u001b[1;33m=\u001b[0m \u001b[0mself\u001b[0m\u001b[1;33m.\u001b[0m\u001b[0m_data\u001b[0m\u001b[1;33m.\u001b[0m\u001b[0mcopy\u001b[0m\u001b[1;33m(\u001b[0m\u001b[0mdeep\u001b[0m\u001b[1;33m=\u001b[0m\u001b[0mdeep\u001b[0m\u001b[1;33m)\u001b[0m\u001b[1;33m\u001b[0m\u001b[1;33m\u001b[0m\u001b[0m\n\u001b[0m\u001b[0;32m   5805\u001b[0m         \u001b[1;32mreturn\u001b[0m \u001b[0mself\u001b[0m\u001b[1;33m.\u001b[0m\u001b[0m_constructor\u001b[0m\u001b[1;33m(\u001b[0m\u001b[0mdata\u001b[0m\u001b[1;33m)\u001b[0m\u001b[1;33m.\u001b[0m\u001b[0m__finalize__\u001b[0m\u001b[1;33m(\u001b[0m\u001b[0mself\u001b[0m\u001b[1;33m)\u001b[0m\u001b[1;33m\u001b[0m\u001b[1;33m\u001b[0m\u001b[0m\n\u001b[0;32m   5806\u001b[0m \u001b[1;33m\u001b[0m\u001b[0m\n",
            "\u001b[1;32m~\\Anaconda3\\lib\\site-packages\\pandas\\core\\internals\\managers.py\u001b[0m in \u001b[0;36mcopy\u001b[1;34m(self, deep)\u001b[0m\n\u001b[0;32m    732\u001b[0m             \u001b[0mnew_axes\u001b[0m \u001b[1;33m=\u001b[0m \u001b[0mlist\u001b[0m\u001b[1;33m(\u001b[0m\u001b[0mself\u001b[0m\u001b[1;33m.\u001b[0m\u001b[0maxes\u001b[0m\u001b[1;33m)\u001b[0m\u001b[1;33m\u001b[0m\u001b[1;33m\u001b[0m\u001b[0m\n\u001b[0;32m    733\u001b[0m         return self.apply('copy', axes=new_axes, deep=deep,\n\u001b[1;32m--> 734\u001b[1;33m                           do_integrity_check=False)\n\u001b[0m\u001b[0;32m    735\u001b[0m \u001b[1;33m\u001b[0m\u001b[0m\n\u001b[0;32m    736\u001b[0m     \u001b[1;32mdef\u001b[0m \u001b[0mas_array\u001b[0m\u001b[1;33m(\u001b[0m\u001b[0mself\u001b[0m\u001b[1;33m,\u001b[0m \u001b[0mtranspose\u001b[0m\u001b[1;33m=\u001b[0m\u001b[1;32mFalse\u001b[0m\u001b[1;33m,\u001b[0m \u001b[0mitems\u001b[0m\u001b[1;33m=\u001b[0m\u001b[1;32mNone\u001b[0m\u001b[1;33m)\u001b[0m\u001b[1;33m:\u001b[0m\u001b[1;33m\u001b[0m\u001b[1;33m\u001b[0m\u001b[0m\n",
            "\u001b[1;32m~\\Anaconda3\\lib\\site-packages\\pandas\\core\\internals\\managers.py\u001b[0m in \u001b[0;36mapply\u001b[1;34m(self, f, axes, filter, do_integrity_check, consolidate, **kwargs)\u001b[0m\n\u001b[0;32m    393\u001b[0m                                             copy=align_copy)\n\u001b[0;32m    394\u001b[0m \u001b[1;33m\u001b[0m\u001b[0m\n\u001b[1;32m--> 395\u001b[1;33m             \u001b[0mapplied\u001b[0m \u001b[1;33m=\u001b[0m \u001b[0mgetattr\u001b[0m\u001b[1;33m(\u001b[0m\u001b[0mb\u001b[0m\u001b[1;33m,\u001b[0m \u001b[0mf\u001b[0m\u001b[1;33m)\u001b[0m\u001b[1;33m(\u001b[0m\u001b[1;33m**\u001b[0m\u001b[0mkwargs\u001b[0m\u001b[1;33m)\u001b[0m\u001b[1;33m\u001b[0m\u001b[1;33m\u001b[0m\u001b[0m\n\u001b[0m\u001b[0;32m    396\u001b[0m             \u001b[0mresult_blocks\u001b[0m \u001b[1;33m=\u001b[0m \u001b[0m_extend_blocks\u001b[0m\u001b[1;33m(\u001b[0m\u001b[0mapplied\u001b[0m\u001b[1;33m,\u001b[0m \u001b[0mresult_blocks\u001b[0m\u001b[1;33m)\u001b[0m\u001b[1;33m\u001b[0m\u001b[1;33m\u001b[0m\u001b[0m\n\u001b[0;32m    397\u001b[0m \u001b[1;33m\u001b[0m\u001b[0m\n",
            "\u001b[1;32m~\\Anaconda3\\lib\\site-packages\\pandas\\core\\internals\\blocks.py\u001b[0m in \u001b[0;36mcopy\u001b[1;34m(self, deep)\u001b[0m\n\u001b[0;32m    751\u001b[0m         \u001b[0mvalues\u001b[0m \u001b[1;33m=\u001b[0m \u001b[0mself\u001b[0m\u001b[1;33m.\u001b[0m\u001b[0mvalues\u001b[0m\u001b[1;33m\u001b[0m\u001b[1;33m\u001b[0m\u001b[0m\n\u001b[0;32m    752\u001b[0m         \u001b[1;32mif\u001b[0m \u001b[0mdeep\u001b[0m\u001b[1;33m:\u001b[0m\u001b[1;33m\u001b[0m\u001b[1;33m\u001b[0m\u001b[0m\n\u001b[1;32m--> 753\u001b[1;33m             \u001b[0mvalues\u001b[0m \u001b[1;33m=\u001b[0m \u001b[0mvalues\u001b[0m\u001b[1;33m.\u001b[0m\u001b[0mcopy\u001b[0m\u001b[1;33m(\u001b[0m\u001b[1;33m)\u001b[0m\u001b[1;33m\u001b[0m\u001b[1;33m\u001b[0m\u001b[0m\n\u001b[0m\u001b[0;32m    754\u001b[0m         \u001b[1;32mreturn\u001b[0m \u001b[0mself\u001b[0m\u001b[1;33m.\u001b[0m\u001b[0mmake_block_same_class\u001b[0m\u001b[1;33m(\u001b[0m\u001b[0mvalues\u001b[0m\u001b[1;33m)\u001b[0m\u001b[1;33m\u001b[0m\u001b[1;33m\u001b[0m\u001b[0m\n\u001b[0;32m    755\u001b[0m \u001b[1;33m\u001b[0m\u001b[0m\n",
            "\u001b[1;31mMemoryError\u001b[0m: "
          ]
        }
      ]
    },
    {
      "cell_type": "code",
      "metadata": {
        "colab_type": "code",
        "id": "nCJjzuP9P7gu",
        "colab": {}
      },
      "source": [
        ""
      ],
      "execution_count": 0,
      "outputs": []
    },
    {
      "cell_type": "code",
      "metadata": {
        "colab_type": "code",
        "id": "ucNCLPsqboiI",
        "colab": {}
      },
      "source": [
        "del test_df, models\n",
        "gc.collect()"
      ],
      "execution_count": 0,
      "outputs": []
    },
    {
      "cell_type": "code",
      "metadata": {
        "colab_type": "code",
        "id": "U8j5eYrNcaD3",
        "colab": {}
      },
      "source": [
        "results_df = pd.DataFrame({\"row_id\": row_ids, \"meter_reading\": np.clip(results, 0, a_max=None)})\n",
        "del row_ids,results\n",
        "gc.collect()"
      ],
      "execution_count": 0,
      "outputs": []
    },
    {
      "cell_type": "code",
      "metadata": {
        "colab_type": "code",
        "id": "o3HIvR3acck2",
        "colab": {}
      },
      "source": [
        "results_df.head(20)"
      ],
      "execution_count": 0,
      "outputs": []
    },
    {
      "cell_type": "code",
      "metadata": {
        "colab_type": "code",
        "id": "VkZVw-z6hpno",
        "colab": {}
      },
      "source": [
        "---"
      ],
      "execution_count": 0,
      "outputs": []
    },
    {
      "cell_type": "code",
      "metadata": {
        "id": "K-V5HCfLEFI8",
        "colab_type": "code",
        "colab": {}
      },
      "source": [
        "from sklearn.model_selection import train_test_split"
      ],
      "execution_count": 0,
      "outputs": []
    },
    {
      "cell_type": "code",
      "metadata": {
        "id": "VFdgianxEFJA",
        "colab_type": "code",
        "colab": {},
        "outputId": "dbaee8ec-d9ad-4019-fd22-04efe75bf38d"
      },
      "source": [
        "features.head()"
      ],
      "execution_count": 0,
      "outputs": [
        {
          "output_type": "execute_result",
          "data": {
            "text/html": [
              "<div>\n",
              "<style scoped>\n",
              "    .dataframe tbody tr th:only-of-type {\n",
              "        vertical-align: middle;\n",
              "    }\n",
              "\n",
              "    .dataframe tbody tr th {\n",
              "        vertical-align: top;\n",
              "    }\n",
              "\n",
              "    .dataframe thead th {\n",
              "        text-align: right;\n",
              "    }\n",
              "</style>\n",
              "<table border=\"1\" class=\"dataframe\">\n",
              "  <thead>\n",
              "    <tr style=\"text-align: right;\">\n",
              "      <th></th>\n",
              "      <th>building_id</th>\n",
              "      <th>meter</th>\n",
              "      <th>site_id</th>\n",
              "      <th>primary_use</th>\n",
              "      <th>square_feet</th>\n",
              "      <th>air_temperature</th>\n",
              "      <th>cloud_coverage</th>\n",
              "      <th>dew_temperature</th>\n",
              "      <th>precip_depth_1_hr</th>\n",
              "      <th>sea_level_pressure</th>\n",
              "      <th>wind_direction</th>\n",
              "      <th>wind_speed</th>\n",
              "      <th>hour</th>\n",
              "      <th>weekend</th>\n",
              "      <th>is_holiday</th>\n",
              "    </tr>\n",
              "  </thead>\n",
              "  <tbody>\n",
              "    <tr>\n",
              "      <th>0</th>\n",
              "      <td>105</td>\n",
              "      <td>0</td>\n",
              "      <td>1</td>\n",
              "      <td>0</td>\n",
              "      <td>10.832181</td>\n",
              "      <td>3.8</td>\n",
              "      <td>0.0</td>\n",
              "      <td>2.4</td>\n",
              "      <td>0.0</td>\n",
              "      <td>1020.9</td>\n",
              "      <td>240.0</td>\n",
              "      <td>3.1</td>\n",
              "      <td>0</td>\n",
              "      <td>4</td>\n",
              "      <td>1</td>\n",
              "    </tr>\n",
              "    <tr>\n",
              "      <th>1</th>\n",
              "      <td>106</td>\n",
              "      <td>0</td>\n",
              "      <td>1</td>\n",
              "      <td>0</td>\n",
              "      <td>8.589514</td>\n",
              "      <td>3.8</td>\n",
              "      <td>0.0</td>\n",
              "      <td>2.4</td>\n",
              "      <td>0.0</td>\n",
              "      <td>1020.9</td>\n",
              "      <td>240.0</td>\n",
              "      <td>3.1</td>\n",
              "      <td>0</td>\n",
              "      <td>4</td>\n",
              "      <td>1</td>\n",
              "    </tr>\n",
              "    <tr>\n",
              "      <th>2</th>\n",
              "      <td>106</td>\n",
              "      <td>3</td>\n",
              "      <td>1</td>\n",
              "      <td>0</td>\n",
              "      <td>8.589514</td>\n",
              "      <td>3.8</td>\n",
              "      <td>0.0</td>\n",
              "      <td>2.4</td>\n",
              "      <td>0.0</td>\n",
              "      <td>1020.9</td>\n",
              "      <td>240.0</td>\n",
              "      <td>3.1</td>\n",
              "      <td>0</td>\n",
              "      <td>4</td>\n",
              "      <td>1</td>\n",
              "    </tr>\n",
              "    <tr>\n",
              "      <th>3</th>\n",
              "      <td>107</td>\n",
              "      <td>0</td>\n",
              "      <td>1</td>\n",
              "      <td>0</td>\n",
              "      <td>11.487946</td>\n",
              "      <td>3.8</td>\n",
              "      <td>0.0</td>\n",
              "      <td>2.4</td>\n",
              "      <td>0.0</td>\n",
              "      <td>1020.9</td>\n",
              "      <td>240.0</td>\n",
              "      <td>3.1</td>\n",
              "      <td>0</td>\n",
              "      <td>4</td>\n",
              "      <td>1</td>\n",
              "    </tr>\n",
              "    <tr>\n",
              "      <th>4</th>\n",
              "      <td>108</td>\n",
              "      <td>0</td>\n",
              "      <td>1</td>\n",
              "      <td>0</td>\n",
              "      <td>11.309352</td>\n",
              "      <td>3.8</td>\n",
              "      <td>0.0</td>\n",
              "      <td>2.4</td>\n",
              "      <td>0.0</td>\n",
              "      <td>1020.9</td>\n",
              "      <td>240.0</td>\n",
              "      <td>3.1</td>\n",
              "      <td>0</td>\n",
              "      <td>4</td>\n",
              "      <td>1</td>\n",
              "    </tr>\n",
              "  </tbody>\n",
              "</table>\n",
              "</div>"
            ],
            "text/plain": [
              "   building_id  meter  site_id  primary_use  square_feet  air_temperature  \\\n",
              "0          105      0        1            0    10.832181              3.8   \n",
              "1          106      0        1            0     8.589514              3.8   \n",
              "2          106      3        1            0     8.589514              3.8   \n",
              "3          107      0        1            0    11.487946              3.8   \n",
              "4          108      0        1            0    11.309352              3.8   \n",
              "\n",
              "   cloud_coverage  dew_temperature  precip_depth_1_hr  sea_level_pressure  \\\n",
              "0             0.0              2.4                0.0              1020.9   \n",
              "1             0.0              2.4                0.0              1020.9   \n",
              "2             0.0              2.4                0.0              1020.9   \n",
              "3             0.0              2.4                0.0              1020.9   \n",
              "4             0.0              2.4                0.0              1020.9   \n",
              "\n",
              "   wind_direction  wind_speed  hour  weekend  is_holiday  \n",
              "0           240.0         3.1     0        4           1  \n",
              "1           240.0         3.1     0        4           1  \n",
              "2           240.0         3.1     0        4           1  \n",
              "3           240.0         3.1     0        4           1  \n",
              "4           240.0         3.1     0        4           1  "
            ]
          },
          "metadata": {
            "tags": []
          },
          "execution_count": 16
        }
      ]
    },
    {
      "cell_type": "code",
      "metadata": {
        "id": "8pHMjnOsEFJD",
        "colab_type": "code",
        "colab": {}
      },
      "source": [
        "X_train, X_test, y_train, y_test = train_test_split(features, target, test_size=0.3, random_state=42)"
      ],
      "execution_count": 0,
      "outputs": []
    },
    {
      "cell_type": "code",
      "metadata": {
        "id": "If15PIEmEFJI",
        "colab_type": "code",
        "colab": {},
        "outputId": "20479dd8-eb44-4426-b2ab-70f9e0da58b6"
      },
      "source": [
        "categorical_features = [\"building_id\", \"site_id\", \"meter\", \"primary_use\", \"is_holiday\", \"weekend\"]\n",
        "params = {\n",
        "    \"objective\": \"regression\",\n",
        "    \"boosting\": \"gbdt\",\n",
        "    \"num_leaves\": 1280,\n",
        "    \"learning_rate\": 0.05,\n",
        "    \"feature_fraction\": 0.85,\n",
        "    \"reg_lambda\": 2,\n",
        "    \"metric\": \"rmse\",\n",
        "}\n",
        "\n",
        "kf = KFold(n_splits=2)\n",
        "models = []\n",
        "for train_index,test_index in kf.split(X_train):\n",
        "    train_features = X_train.loc[train_index]\n",
        "    train_target = y_train.loc[train_index]\n",
        "    \n",
        "    test_features = X_train.loc[test_index]\n",
        "    test_target = y_train.loc[test_index]\n",
        "    \n",
        "    d_training = lgb.Dataset(train_features, label=train_target,categorical_feature=categorical_features, free_raw_data=False)\n",
        "    d_test = lgb.Dataset(test_features, label=test_target,categorical_feature=categorical_features, free_raw_data=False)\n",
        "    \n",
        "    model = lgb.train(params, train_set=d_training, num_boost_round=1000, valid_sets=[d_training,d_test], verbose_eval=25, early_stopping_rounds=25)\n",
        "    models.append(model)\n",
        "    del train_features, train_target, test_features, test_target, d_training, d_test\n",
        "    gc.collect()"
      ],
      "execution_count": 0,
      "outputs": [
        {
          "output_type": "stream",
          "text": [
            "C:\\Users\\Sanjan\\Anaconda3\\lib\\site-packages\\ipykernel_launcher.py:15: FutureWarning: \n",
            "Passing list-likes to .loc or [] with any missing label will raise\n",
            "KeyError in the future, you can use .reindex() as an alternative.\n",
            "\n",
            "See the documentation here:\n",
            "https://pandas.pydata.org/pandas-docs/stable/indexing.html#deprecate-loc-reindex-listlike\n",
            "  from ipykernel import kernelapp as app\n",
            "C:\\Users\\Sanjan\\Anaconda3\\lib\\site-packages\\ipykernel_launcher.py:16: FutureWarning: \n",
            "Passing list-likes to .loc or [] with any missing label will raise\n",
            "KeyError in the future, you can use .reindex() as an alternative.\n",
            "\n",
            "See the documentation here:\n",
            "https://pandas.pydata.org/pandas-docs/stable/indexing.html#deprecate-loc-reindex-listlike\n",
            "  app.launch_new_instance()\n",
            "C:\\Users\\Sanjan\\Anaconda3\\lib\\site-packages\\ipykernel_launcher.py:18: FutureWarning: \n",
            "Passing list-likes to .loc or [] with any missing label will raise\n",
            "KeyError in the future, you can use .reindex() as an alternative.\n",
            "\n",
            "See the documentation here:\n",
            "https://pandas.pydata.org/pandas-docs/stable/indexing.html#deprecate-loc-reindex-listlike\n",
            "C:\\Users\\Sanjan\\Anaconda3\\lib\\site-packages\\ipykernel_launcher.py:19: FutureWarning: \n",
            "Passing list-likes to .loc or [] with any missing label will raise\n",
            "KeyError in the future, you can use .reindex() as an alternative.\n",
            "\n",
            "See the documentation here:\n",
            "https://pandas.pydata.org/pandas-docs/stable/indexing.html#deprecate-loc-reindex-listlike\n",
            "C:\\Users\\Sanjan\\Anaconda3\\lib\\site-packages\\lightgbm\\basic.py:1243: UserWarning: Using categorical_feature in Dataset.\n",
            "  warnings.warn('Using categorical_feature in Dataset.')\n"
          ],
          "name": "stderr"
        },
        {
          "output_type": "stream",
          "text": [
            "Training until validation scores don't improve for 25 rounds\n",
            "[25]\ttraining's rmse: 1.00587\tvalid_1's rmse: 1.31641\n",
            "[50]\ttraining's rmse: 0.671074\tvalid_1's rmse: 1.13378\n",
            "[75]\ttraining's rmse: 0.600446\tvalid_1's rmse: 1.09624\n",
            "[100]\ttraining's rmse: 0.56345\tvalid_1's rmse: 1.07481\n",
            "[125]\ttraining's rmse: 0.539268\tvalid_1's rmse: 1.06359\n",
            "[150]\ttraining's rmse: 0.521301\tvalid_1's rmse: 1.05889\n",
            "[175]\ttraining's rmse: 0.507554\tvalid_1's rmse: 1.05715\n",
            "[200]\ttraining's rmse: 0.497924\tvalid_1's rmse: 1.05653\n",
            "[225]\ttraining's rmse: 0.489873\tvalid_1's rmse: 1.05625\n",
            "[250]\ttraining's rmse: 0.482602\tvalid_1's rmse: 1.05577\n",
            "[275]\ttraining's rmse: 0.476801\tvalid_1's rmse: 1.05538\n",
            "Early stopping, best iteration is:\n",
            "[273]\ttraining's rmse: 0.477337\tvalid_1's rmse: 1.05537\n",
            "Training until validation scores don't improve for 25 rounds\n",
            "[25]\ttraining's rmse: 0.990594\tvalid_1's rmse: 1.29745\n",
            "[50]\ttraining's rmse: 0.650505\tvalid_1's rmse: 1.10654\n",
            "[75]\ttraining's rmse: 0.578102\tvalid_1's rmse: 1.07649\n",
            "[100]\ttraining's rmse: 0.542123\tvalid_1's rmse: 1.06866\n",
            "[125]\ttraining's rmse: 0.517435\tvalid_1's rmse: 1.06734\n",
            "Early stopping, best iteration is:\n",
            "[111]\ttraining's rmse: 0.529761\tvalid_1's rmse: 1.0661\n"
          ],
          "name": "stdout"
        }
      ]
    },
    {
      "cell_type": "code",
      "metadata": {
        "id": "gTO2raSFEFJL",
        "colab_type": "code",
        "colab": {},
        "outputId": "b737b80f-099d-46ec-f2f8-97bb671f1517"
      },
      "source": [
        "results = []\n",
        "for model in models:\n",
        "    if  results == []:\n",
        "        results = np.expm1(model.predict(X_test, num_iteration=model.best_iteration)) / len(models)\n",
        "    else:\n",
        "        results += np.expm1(model.predict(X_test, num_iteration=model.best_iteration)) / len(models)\n",
        "    #del model\n",
        "    gc.collect()"
      ],
      "execution_count": 0,
      "outputs": [
        {
          "output_type": "stream",
          "text": [
            "C:\\Users\\Sanjan\\Anaconda3\\lib\\site-packages\\ipykernel_launcher.py:3: DeprecationWarning: elementwise comparison failed; this will raise an error in the future.\n",
            "  This is separate from the ipykernel package so we can avoid doing imports until\n"
          ],
          "name": "stderr"
        }
      ]
    },
    {
      "cell_type": "code",
      "metadata": {
        "id": "QLnI-cC1EFJO",
        "colab_type": "code",
        "colab": {}
      },
      "source": [
        "ypred = model.predict(X_test)"
      ],
      "execution_count": 0,
      "outputs": []
    },
    {
      "cell_type": "code",
      "metadata": {
        "scrolled": true,
        "id": "lo1NXnZ-EFJR",
        "colab_type": "code",
        "colab": {},
        "outputId": "27f07f36-123b-40d6-b13b-8563f0504db8"
      },
      "source": [
        "X_test.head()"
      ],
      "execution_count": 0,
      "outputs": [
        {
          "output_type": "execute_result",
          "data": {
            "text/html": [
              "<div>\n",
              "<style scoped>\n",
              "    .dataframe tbody tr th:only-of-type {\n",
              "        vertical-align: middle;\n",
              "    }\n",
              "\n",
              "    .dataframe tbody tr th {\n",
              "        vertical-align: top;\n",
              "    }\n",
              "\n",
              "    .dataframe thead th {\n",
              "        text-align: right;\n",
              "    }\n",
              "</style>\n",
              "<table border=\"1\" class=\"dataframe\">\n",
              "  <thead>\n",
              "    <tr style=\"text-align: right;\">\n",
              "      <th></th>\n",
              "      <th>building_id</th>\n",
              "      <th>meter</th>\n",
              "      <th>site_id</th>\n",
              "      <th>primary_use</th>\n",
              "      <th>square_feet</th>\n",
              "      <th>air_temperature</th>\n",
              "      <th>cloud_coverage</th>\n",
              "      <th>dew_temperature</th>\n",
              "      <th>precip_depth_1_hr</th>\n",
              "      <th>sea_level_pressure</th>\n",
              "      <th>wind_direction</th>\n",
              "      <th>wind_speed</th>\n",
              "      <th>hour</th>\n",
              "      <th>weekend</th>\n",
              "      <th>is_holiday</th>\n",
              "    </tr>\n",
              "  </thead>\n",
              "  <tbody>\n",
              "    <tr>\n",
              "      <th>8019080</th>\n",
              "      <td>1157</td>\n",
              "      <td>1</td>\n",
              "      <td>13</td>\n",
              "      <td>0</td>\n",
              "      <td>10.521588</td>\n",
              "      <td>18.9</td>\n",
              "      <td>2.600000</td>\n",
              "      <td>16.1</td>\n",
              "      <td>8.0</td>\n",
              "      <td>1013.6</td>\n",
              "      <td>137.727273</td>\n",
              "      <td>2.1</td>\n",
              "      <td>21</td>\n",
              "      <td>4</td>\n",
              "      <td>0</td>\n",
              "    </tr>\n",
              "    <tr>\n",
              "      <th>4188120</th>\n",
              "      <td>1400</td>\n",
              "      <td>1</td>\n",
              "      <td>15</td>\n",
              "      <td>4</td>\n",
              "      <td>9.960293</td>\n",
              "      <td>15.0</td>\n",
              "      <td>4.000000</td>\n",
              "      <td>4.4</td>\n",
              "      <td>-1.0</td>\n",
              "      <td>1012.0</td>\n",
              "      <td>160.000000</td>\n",
              "      <td>8.2</td>\n",
              "      <td>16</td>\n",
              "      <td>3</td>\n",
              "      <td>0</td>\n",
              "    </tr>\n",
              "    <tr>\n",
              "      <th>1871015</th>\n",
              "      <td>410</td>\n",
              "      <td>0</td>\n",
              "      <td>3</td>\n",
              "      <td>0</td>\n",
              "      <td>11.068418</td>\n",
              "      <td>2.8</td>\n",
              "      <td>5.230769</td>\n",
              "      <td>-3.3</td>\n",
              "      <td>-1.0</td>\n",
              "      <td>1022.4</td>\n",
              "      <td>330.000000</td>\n",
              "      <td>9.3</td>\n",
              "      <td>13</td>\n",
              "      <td>4</td>\n",
              "      <td>0</td>\n",
              "    </tr>\n",
              "    <tr>\n",
              "      <th>9994823</th>\n",
              "      <td>246</td>\n",
              "      <td>3</td>\n",
              "      <td>2</td>\n",
              "      <td>6</td>\n",
              "      <td>12.218179</td>\n",
              "      <td>41.1</td>\n",
              "      <td>2.000000</td>\n",
              "      <td>7.2</td>\n",
              "      <td>0.0</td>\n",
              "      <td>1006.7</td>\n",
              "      <td>280.000000</td>\n",
              "      <td>5.1</td>\n",
              "      <td>1</td>\n",
              "      <td>5</td>\n",
              "      <td>0</td>\n",
              "    </tr>\n",
              "    <tr>\n",
              "      <th>4935167</th>\n",
              "      <td>187</td>\n",
              "      <td>1</td>\n",
              "      <td>2</td>\n",
              "      <td>0</td>\n",
              "      <td>10.696571</td>\n",
              "      <td>26.1</td>\n",
              "      <td>6.500000</td>\n",
              "      <td>5.0</td>\n",
              "      <td>0.0</td>\n",
              "      <td>1008.3</td>\n",
              "      <td>330.000000</td>\n",
              "      <td>4.1</td>\n",
              "      <td>4</td>\n",
              "      <td>4</td>\n",
              "      <td>0</td>\n",
              "    </tr>\n",
              "  </tbody>\n",
              "</table>\n",
              "</div>"
            ],
            "text/plain": [
              "         building_id  meter  site_id  primary_use  square_feet  \\\n",
              "8019080         1157      1       13            0    10.521588   \n",
              "4188120         1400      1       15            4     9.960293   \n",
              "1871015          410      0        3            0    11.068418   \n",
              "9994823          246      3        2            6    12.218179   \n",
              "4935167          187      1        2            0    10.696571   \n",
              "\n",
              "         air_temperature  cloud_coverage  dew_temperature  precip_depth_1_hr  \\\n",
              "8019080             18.9        2.600000             16.1                8.0   \n",
              "4188120             15.0        4.000000              4.4               -1.0   \n",
              "1871015              2.8        5.230769             -3.3               -1.0   \n",
              "9994823             41.1        2.000000              7.2                0.0   \n",
              "4935167             26.1        6.500000              5.0                0.0   \n",
              "\n",
              "         sea_level_pressure  wind_direction  wind_speed  hour  weekend  \\\n",
              "8019080              1013.6      137.727273         2.1    21        4   \n",
              "4188120              1012.0      160.000000         8.2    16        3   \n",
              "1871015              1022.4      330.000000         9.3    13        4   \n",
              "9994823              1006.7      280.000000         5.1     1        5   \n",
              "4935167              1008.3      330.000000         4.1     4        4   \n",
              "\n",
              "         is_holiday  \n",
              "8019080           0  \n",
              "4188120           0  \n",
              "1871015           0  \n",
              "9994823           0  \n",
              "4935167           0  "
            ]
          },
          "metadata": {
            "tags": []
          },
          "execution_count": 12
        }
      ]
    },
    {
      "cell_type": "code",
      "metadata": {
        "id": "6NtGiHN7EFJS",
        "colab_type": "code",
        "colab": {}
      },
      "source": [
        "ypred1 = pd.DataFrame(ypred)"
      ],
      "execution_count": 0,
      "outputs": []
    },
    {
      "cell_type": "code",
      "metadata": {
        "id": "5x3WaMXJEFJW",
        "colab_type": "code",
        "colab": {},
        "outputId": "13d46fff-1c04-4363-d6f5-fc09f77ba74c"
      },
      "source": [
        "results_df = pd.DataFrame(np.clip(results, 0, a_max=None))\n",
        "#del row_ids,results\n",
        "gc.collect()"
      ],
      "execution_count": 0,
      "outputs": [
        {
          "output_type": "execute_result",
          "data": {
            "text/plain": [
              "150"
            ]
          },
          "metadata": {
            "tags": []
          },
          "execution_count": 26
        }
      ]
    },
    {
      "cell_type": "code",
      "metadata": {
        "id": "b-5U6sIZEFJZ",
        "colab_type": "code",
        "colab": {},
        "outputId": "8075a672-b537-4a40-c4ad-6b563ccdb67f"
      },
      "source": [
        "results"
      ],
      "execution_count": 0,
      "outputs": [
        {
          "output_type": "execute_result",
          "data": {
            "text/plain": [
              "array([ 101.81443961,   20.16503409,   84.23674461, ...,   15.8572591 ,\n",
              "         91.45562228, 1032.99685354])"
            ]
          },
          "metadata": {
            "tags": []
          },
          "execution_count": 34
        }
      ]
    },
    {
      "cell_type": "code",
      "metadata": {
        "id": "W8RMSuKcEFJb",
        "colab_type": "code",
        "colab": {},
        "outputId": "bf8179bb-9ef5-490a-aca5-3e6ba5eb637c"
      },
      "source": [
        "pd.DataFrame(y_test.head(10))"
      ],
      "execution_count": 0,
      "outputs": [
        {
          "output_type": "execute_result",
          "data": {
            "text/html": [
              "<div>\n",
              "<style scoped>\n",
              "    .dataframe tbody tr th:only-of-type {\n",
              "        vertical-align: middle;\n",
              "    }\n",
              "\n",
              "    .dataframe tbody tr th {\n",
              "        vertical-align: top;\n",
              "    }\n",
              "\n",
              "    .dataframe thead th {\n",
              "        text-align: right;\n",
              "    }\n",
              "</style>\n",
              "<table border=\"1\" class=\"dataframe\">\n",
              "  <thead>\n",
              "    <tr style=\"text-align: right;\">\n",
              "      <th></th>\n",
              "      <th>meter_reading</th>\n",
              "    </tr>\n",
              "  </thead>\n",
              "  <tbody>\n",
              "    <tr>\n",
              "      <th>8019080</th>\n",
              "      <td>4.952491</td>\n",
              "    </tr>\n",
              "    <tr>\n",
              "      <th>4188120</th>\n",
              "      <td>2.853898</td>\n",
              "    </tr>\n",
              "    <tr>\n",
              "      <th>1871015</th>\n",
              "      <td>4.460722</td>\n",
              "    </tr>\n",
              "    <tr>\n",
              "      <th>9994823</th>\n",
              "      <td>4.454238</td>\n",
              "    </tr>\n",
              "    <tr>\n",
              "      <th>4935167</th>\n",
              "      <td>2.482621</td>\n",
              "    </tr>\n",
              "    <tr>\n",
              "      <th>14844812</th>\n",
              "      <td>4.541911</td>\n",
              "    </tr>\n",
              "    <tr>\n",
              "      <th>5191104</th>\n",
              "      <td>3.610918</td>\n",
              "    </tr>\n",
              "    <tr>\n",
              "      <th>19693720</th>\n",
              "      <td>0.255882</td>\n",
              "    </tr>\n",
              "    <tr>\n",
              "      <th>7131039</th>\n",
              "      <td>4.945207</td>\n",
              "    </tr>\n",
              "    <tr>\n",
              "      <th>12976929</th>\n",
              "      <td>4.184181</td>\n",
              "    </tr>\n",
              "  </tbody>\n",
              "</table>\n",
              "</div>"
            ],
            "text/plain": [
              "          meter_reading\n",
              "8019080        4.952491\n",
              "4188120        2.853898\n",
              "1871015        4.460722\n",
              "9994823        4.454238\n",
              "4935167        2.482621\n",
              "14844812       4.541911\n",
              "5191104        3.610918\n",
              "19693720       0.255882\n",
              "7131039        4.945207\n",
              "12976929       4.184181"
            ]
          },
          "metadata": {
            "tags": []
          },
          "execution_count": 9
        }
      ]
    },
    {
      "cell_type": "code",
      "metadata": {
        "id": "J7Kyn2UZEFJd",
        "colab_type": "code",
        "colab": {},
        "outputId": "c5c65a79-9c0c-4d57-f7ca-81aecf15e9bc"
      },
      "source": [
        "results_df.head(20)"
      ],
      "execution_count": 0,
      "outputs": [
        {
          "output_type": "execute_result",
          "data": {
            "text/html": [
              "<div>\n",
              "<style scoped>\n",
              "    .dataframe tbody tr th:only-of-type {\n",
              "        vertical-align: middle;\n",
              "    }\n",
              "\n",
              "    .dataframe tbody tr th {\n",
              "        vertical-align: top;\n",
              "    }\n",
              "\n",
              "    .dataframe thead th {\n",
              "        text-align: right;\n",
              "    }\n",
              "</style>\n",
              "<table border=\"1\" class=\"dataframe\">\n",
              "  <thead>\n",
              "    <tr style=\"text-align: right;\">\n",
              "      <th></th>\n",
              "      <th>0</th>\n",
              "    </tr>\n",
              "  </thead>\n",
              "  <tbody>\n",
              "    <tr>\n",
              "      <th>0</th>\n",
              "      <td>101.814440</td>\n",
              "    </tr>\n",
              "    <tr>\n",
              "      <th>1</th>\n",
              "      <td>20.165034</td>\n",
              "    </tr>\n",
              "    <tr>\n",
              "      <th>2</th>\n",
              "      <td>84.236745</td>\n",
              "    </tr>\n",
              "    <tr>\n",
              "      <th>3</th>\n",
              "      <td>91.553787</td>\n",
              "    </tr>\n",
              "    <tr>\n",
              "      <th>4</th>\n",
              "      <td>3.357340</td>\n",
              "    </tr>\n",
              "    <tr>\n",
              "      <th>5</th>\n",
              "      <td>84.069351</td>\n",
              "    </tr>\n",
              "    <tr>\n",
              "      <th>6</th>\n",
              "      <td>34.922003</td>\n",
              "    </tr>\n",
              "    <tr>\n",
              "      <th>7</th>\n",
              "      <td>3.442654</td>\n",
              "    </tr>\n",
              "    <tr>\n",
              "      <th>8</th>\n",
              "      <td>93.987892</td>\n",
              "    </tr>\n",
              "    <tr>\n",
              "      <th>9</th>\n",
              "      <td>48.600104</td>\n",
              "    </tr>\n",
              "    <tr>\n",
              "      <th>10</th>\n",
              "      <td>133.845483</td>\n",
              "    </tr>\n",
              "    <tr>\n",
              "      <th>11</th>\n",
              "      <td>59.189345</td>\n",
              "    </tr>\n",
              "    <tr>\n",
              "      <th>12</th>\n",
              "      <td>33.473406</td>\n",
              "    </tr>\n",
              "    <tr>\n",
              "      <th>13</th>\n",
              "      <td>752.414103</td>\n",
              "    </tr>\n",
              "    <tr>\n",
              "      <th>14</th>\n",
              "      <td>293.281471</td>\n",
              "    </tr>\n",
              "    <tr>\n",
              "      <th>15</th>\n",
              "      <td>96.947967</td>\n",
              "    </tr>\n",
              "    <tr>\n",
              "      <th>16</th>\n",
              "      <td>16.442671</td>\n",
              "    </tr>\n",
              "    <tr>\n",
              "      <th>17</th>\n",
              "      <td>9.302554</td>\n",
              "    </tr>\n",
              "    <tr>\n",
              "      <th>18</th>\n",
              "      <td>447.841392</td>\n",
              "    </tr>\n",
              "    <tr>\n",
              "      <th>19</th>\n",
              "      <td>110.642549</td>\n",
              "    </tr>\n",
              "  </tbody>\n",
              "</table>\n",
              "</div>"
            ],
            "text/plain": [
              "             0\n",
              "0   101.814440\n",
              "1    20.165034\n",
              "2    84.236745\n",
              "3    91.553787\n",
              "4     3.357340\n",
              "5    84.069351\n",
              "6    34.922003\n",
              "7     3.442654\n",
              "8    93.987892\n",
              "9    48.600104\n",
              "10  133.845483\n",
              "11   59.189345\n",
              "12   33.473406\n",
              "13  752.414103\n",
              "14  293.281471\n",
              "15   96.947967\n",
              "16   16.442671\n",
              "17    9.302554\n",
              "18  447.841392\n",
              "19  110.642549"
            ]
          },
          "metadata": {
            "tags": []
          },
          "execution_count": 49
        }
      ]
    },
    {
      "cell_type": "code",
      "metadata": {
        "id": "47LACsjCEFJf",
        "colab_type": "code",
        "colab": {},
        "outputId": "729f9a96-21c2-4481-8a64-db7a67009466"
      },
      "source": [
        "ypred1.head(10)"
      ],
      "execution_count": 0,
      "outputs": [
        {
          "output_type": "execute_result",
          "data": {
            "text/html": [
              "<div>\n",
              "<style scoped>\n",
              "    .dataframe tbody tr th:only-of-type {\n",
              "        vertical-align: middle;\n",
              "    }\n",
              "\n",
              "    .dataframe tbody tr th {\n",
              "        vertical-align: top;\n",
              "    }\n",
              "\n",
              "    .dataframe thead th {\n",
              "        text-align: right;\n",
              "    }\n",
              "</style>\n",
              "<table border=\"1\" class=\"dataframe\">\n",
              "  <thead>\n",
              "    <tr style=\"text-align: right;\">\n",
              "      <th></th>\n",
              "      <th>0</th>\n",
              "    </tr>\n",
              "  </thead>\n",
              "  <tbody>\n",
              "    <tr>\n",
              "      <th>0</th>\n",
              "      <td>4.229118</td>\n",
              "    </tr>\n",
              "    <tr>\n",
              "      <th>1</th>\n",
              "      <td>3.184980</td>\n",
              "    </tr>\n",
              "    <tr>\n",
              "      <th>2</th>\n",
              "      <td>4.334928</td>\n",
              "    </tr>\n",
              "    <tr>\n",
              "      <th>3</th>\n",
              "      <td>4.656039</td>\n",
              "    </tr>\n",
              "    <tr>\n",
              "      <th>4</th>\n",
              "      <td>0.965189</td>\n",
              "    </tr>\n",
              "    <tr>\n",
              "      <th>5</th>\n",
              "      <td>4.444804</td>\n",
              "    </tr>\n",
              "    <tr>\n",
              "      <th>6</th>\n",
              "      <td>3.612776</td>\n",
              "    </tr>\n",
              "    <tr>\n",
              "      <th>7</th>\n",
              "      <td>0.161807</td>\n",
              "    </tr>\n",
              "    <tr>\n",
              "      <th>8</th>\n",
              "      <td>4.590721</td>\n",
              "    </tr>\n",
              "    <tr>\n",
              "      <th>9</th>\n",
              "      <td>3.728169</td>\n",
              "    </tr>\n",
              "  </tbody>\n",
              "</table>\n",
              "</div>"
            ],
            "text/plain": [
              "          0\n",
              "0  4.229118\n",
              "1  3.184980\n",
              "2  4.334928\n",
              "3  4.656039\n",
              "4  0.965189\n",
              "5  4.444804\n",
              "6  3.612776\n",
              "7  0.161807\n",
              "8  4.590721\n",
              "9  3.728169"
            ]
          },
          "metadata": {
            "tags": []
          },
          "execution_count": 42
        }
      ]
    },
    {
      "cell_type": "code",
      "metadata": {
        "id": "0jufOJkqEFJu",
        "colab_type": "code",
        "colab": {},
        "outputId": "1736457b-c790-4b30-e896-89418add3e4b"
      },
      "source": [
        "y_test.head(10)"
      ],
      "execution_count": 0,
      "outputs": [
        {
          "output_type": "execute_result",
          "data": {
            "text/plain": [
              "8019080     4.952491\n",
              "4188120     2.853898\n",
              "1871015     4.460722\n",
              "9994823     4.454238\n",
              "4935167     2.482621\n",
              "14844812    4.541911\n",
              "5191104     3.610918\n",
              "19693720    0.255882\n",
              "7131039     4.945207\n",
              "12976929    4.184181\n",
              "Name: meter_reading, dtype: float64"
            ]
          },
          "metadata": {
            "tags": []
          },
          "execution_count": 17
        }
      ]
    },
    {
      "cell_type": "code",
      "metadata": {
        "id": "SMKa54mDEFJw",
        "colab_type": "code",
        "colab": {}
      },
      "source": [
        "from sklearn.metrics import mean_squared_error"
      ],
      "execution_count": 0,
      "outputs": []
    },
    {
      "cell_type": "code",
      "metadata": {
        "id": "0_DCdHOBEFJ0",
        "colab_type": "code",
        "colab": {},
        "outputId": "8707b50e-913d-41b8-821f-1eb28c1d4088"
      },
      "source": [
        "print(\"RMSE for LGBM \",mean_squared_error(y_test, ypred1))\n",
        "print(\"MAE for LGBM \",mean_absolute_error(y_test,ypred1))"
      ],
      "execution_count": 0,
      "outputs": [
        {
          "output_type": "stream",
          "text": [
            "RMSE for LGBM  1.2141314687001845\n",
            "MAE for LGBM  0.5525333636964069\n"
          ],
          "name": "stdout"
        }
      ]
    },
    {
      "cell_type": "code",
      "metadata": {
        "id": "qrVJqkVwEFJ8",
        "colab_type": "code",
        "colab": {}
      },
      "source": [
        ""
      ],
      "execution_count": 0,
      "outputs": []
    },
    {
      "cell_type": "code",
      "metadata": {
        "id": "d6i2eNSrEFJ-",
        "colab_type": "code",
        "colab": {}
      },
      "source": [
        "metadata = pd.read_csv(\"C:\\\\Users\\\\Sanjan\\\\Desktop\\\\Ashrae data\\\\building_metadata.csv\")"
      ],
      "execution_count": 0,
      "outputs": []
    },
    {
      "cell_type": "code",
      "metadata": {
        "id": "alx18AZXEFJ_",
        "colab_type": "code",
        "colab": {},
        "outputId": "84881a12-1681-4d1a-c8fe-bc2c1d4f142e"
      },
      "source": [
        "metadata.head(10)"
      ],
      "execution_count": 0,
      "outputs": [
        {
          "output_type": "execute_result",
          "data": {
            "text/html": [
              "<div>\n",
              "<style scoped>\n",
              "    .dataframe tbody tr th:only-of-type {\n",
              "        vertical-align: middle;\n",
              "    }\n",
              "\n",
              "    .dataframe tbody tr th {\n",
              "        vertical-align: top;\n",
              "    }\n",
              "\n",
              "    .dataframe thead th {\n",
              "        text-align: right;\n",
              "    }\n",
              "</style>\n",
              "<table border=\"1\" class=\"dataframe\">\n",
              "  <thead>\n",
              "    <tr style=\"text-align: right;\">\n",
              "      <th></th>\n",
              "      <th>site_id</th>\n",
              "      <th>building_id</th>\n",
              "      <th>primary_use</th>\n",
              "      <th>square_feet</th>\n",
              "      <th>year_built</th>\n",
              "      <th>floor_count</th>\n",
              "    </tr>\n",
              "  </thead>\n",
              "  <tbody>\n",
              "    <tr>\n",
              "      <th>0</th>\n",
              "      <td>0</td>\n",
              "      <td>0</td>\n",
              "      <td>Education</td>\n",
              "      <td>7432</td>\n",
              "      <td>2008.0</td>\n",
              "      <td>NaN</td>\n",
              "    </tr>\n",
              "    <tr>\n",
              "      <th>1</th>\n",
              "      <td>0</td>\n",
              "      <td>1</td>\n",
              "      <td>Education</td>\n",
              "      <td>2720</td>\n",
              "      <td>2004.0</td>\n",
              "      <td>NaN</td>\n",
              "    </tr>\n",
              "    <tr>\n",
              "      <th>2</th>\n",
              "      <td>0</td>\n",
              "      <td>2</td>\n",
              "      <td>Education</td>\n",
              "      <td>5376</td>\n",
              "      <td>1991.0</td>\n",
              "      <td>NaN</td>\n",
              "    </tr>\n",
              "    <tr>\n",
              "      <th>3</th>\n",
              "      <td>0</td>\n",
              "      <td>3</td>\n",
              "      <td>Education</td>\n",
              "      <td>23685</td>\n",
              "      <td>2002.0</td>\n",
              "      <td>NaN</td>\n",
              "    </tr>\n",
              "    <tr>\n",
              "      <th>4</th>\n",
              "      <td>0</td>\n",
              "      <td>4</td>\n",
              "      <td>Education</td>\n",
              "      <td>116607</td>\n",
              "      <td>1975.0</td>\n",
              "      <td>NaN</td>\n",
              "    </tr>\n",
              "    <tr>\n",
              "      <th>5</th>\n",
              "      <td>0</td>\n",
              "      <td>5</td>\n",
              "      <td>Education</td>\n",
              "      <td>8000</td>\n",
              "      <td>2000.0</td>\n",
              "      <td>NaN</td>\n",
              "    </tr>\n",
              "    <tr>\n",
              "      <th>6</th>\n",
              "      <td>0</td>\n",
              "      <td>6</td>\n",
              "      <td>Lodging/residential</td>\n",
              "      <td>27926</td>\n",
              "      <td>1981.0</td>\n",
              "      <td>NaN</td>\n",
              "    </tr>\n",
              "    <tr>\n",
              "      <th>7</th>\n",
              "      <td>0</td>\n",
              "      <td>7</td>\n",
              "      <td>Education</td>\n",
              "      <td>121074</td>\n",
              "      <td>1989.0</td>\n",
              "      <td>NaN</td>\n",
              "    </tr>\n",
              "    <tr>\n",
              "      <th>8</th>\n",
              "      <td>0</td>\n",
              "      <td>8</td>\n",
              "      <td>Education</td>\n",
              "      <td>60809</td>\n",
              "      <td>2003.0</td>\n",
              "      <td>NaN</td>\n",
              "    </tr>\n",
              "    <tr>\n",
              "      <th>9</th>\n",
              "      <td>0</td>\n",
              "      <td>9</td>\n",
              "      <td>Office</td>\n",
              "      <td>27000</td>\n",
              "      <td>2010.0</td>\n",
              "      <td>NaN</td>\n",
              "    </tr>\n",
              "  </tbody>\n",
              "</table>\n",
              "</div>"
            ],
            "text/plain": [
              "   site_id  building_id          primary_use  square_feet  year_built  \\\n",
              "0        0            0            Education         7432      2008.0   \n",
              "1        0            1            Education         2720      2004.0   \n",
              "2        0            2            Education         5376      1991.0   \n",
              "3        0            3            Education        23685      2002.0   \n",
              "4        0            4            Education       116607      1975.0   \n",
              "5        0            5            Education         8000      2000.0   \n",
              "6        0            6  Lodging/residential        27926      1981.0   \n",
              "7        0            7            Education       121074      1989.0   \n",
              "8        0            8            Education        60809      2003.0   \n",
              "9        0            9               Office        27000      2010.0   \n",
              "\n",
              "   floor_count  \n",
              "0          NaN  \n",
              "1          NaN  \n",
              "2          NaN  \n",
              "3          NaN  \n",
              "4          NaN  \n",
              "5          NaN  \n",
              "6          NaN  \n",
              "7          NaN  \n",
              "8          NaN  \n",
              "9          NaN  "
            ]
          },
          "metadata": {
            "tags": []
          },
          "execution_count": 20
        }
      ]
    },
    {
      "cell_type": "code",
      "metadata": {
        "id": "gk1WpuSIEFKB",
        "colab_type": "code",
        "colab": {}
      },
      "source": [
        "weather = pd.read_csv(\"C:\\\\Users\\\\Sanjan\\\\Desktop\\\\Ashrae data\\\\weather_train.csv\")"
      ],
      "execution_count": 0,
      "outputs": []
    },
    {
      "cell_type": "code",
      "metadata": {
        "id": "YANLWe-LEFKD",
        "colab_type": "code",
        "colab": {},
        "outputId": "ac6fb39b-057e-418c-8826-7964edc463dd"
      },
      "source": [
        "weather.head(10)"
      ],
      "execution_count": 0,
      "outputs": [
        {
          "output_type": "execute_result",
          "data": {
            "text/html": [
              "<div>\n",
              "<style scoped>\n",
              "    .dataframe tbody tr th:only-of-type {\n",
              "        vertical-align: middle;\n",
              "    }\n",
              "\n",
              "    .dataframe tbody tr th {\n",
              "        vertical-align: top;\n",
              "    }\n",
              "\n",
              "    .dataframe thead th {\n",
              "        text-align: right;\n",
              "    }\n",
              "</style>\n",
              "<table border=\"1\" class=\"dataframe\">\n",
              "  <thead>\n",
              "    <tr style=\"text-align: right;\">\n",
              "      <th></th>\n",
              "      <th>site_id</th>\n",
              "      <th>timestamp</th>\n",
              "      <th>air_temperature</th>\n",
              "      <th>cloud_coverage</th>\n",
              "      <th>dew_temperature</th>\n",
              "      <th>precip_depth_1_hr</th>\n",
              "      <th>sea_level_pressure</th>\n",
              "      <th>wind_direction</th>\n",
              "      <th>wind_speed</th>\n",
              "    </tr>\n",
              "  </thead>\n",
              "  <tbody>\n",
              "    <tr>\n",
              "      <th>0</th>\n",
              "      <td>0</td>\n",
              "      <td>2016-01-01 00:00:00</td>\n",
              "      <td>25.0</td>\n",
              "      <td>6.0</td>\n",
              "      <td>20.0</td>\n",
              "      <td>NaN</td>\n",
              "      <td>1019.7</td>\n",
              "      <td>0.0</td>\n",
              "      <td>0.0</td>\n",
              "    </tr>\n",
              "    <tr>\n",
              "      <th>1</th>\n",
              "      <td>0</td>\n",
              "      <td>2016-01-01 01:00:00</td>\n",
              "      <td>24.4</td>\n",
              "      <td>NaN</td>\n",
              "      <td>21.1</td>\n",
              "      <td>-1.0</td>\n",
              "      <td>1020.2</td>\n",
              "      <td>70.0</td>\n",
              "      <td>1.5</td>\n",
              "    </tr>\n",
              "    <tr>\n",
              "      <th>2</th>\n",
              "      <td>0</td>\n",
              "      <td>2016-01-01 02:00:00</td>\n",
              "      <td>22.8</td>\n",
              "      <td>2.0</td>\n",
              "      <td>21.1</td>\n",
              "      <td>0.0</td>\n",
              "      <td>1020.2</td>\n",
              "      <td>0.0</td>\n",
              "      <td>0.0</td>\n",
              "    </tr>\n",
              "    <tr>\n",
              "      <th>3</th>\n",
              "      <td>0</td>\n",
              "      <td>2016-01-01 03:00:00</td>\n",
              "      <td>21.1</td>\n",
              "      <td>2.0</td>\n",
              "      <td>20.6</td>\n",
              "      <td>0.0</td>\n",
              "      <td>1020.1</td>\n",
              "      <td>0.0</td>\n",
              "      <td>0.0</td>\n",
              "    </tr>\n",
              "    <tr>\n",
              "      <th>4</th>\n",
              "      <td>0</td>\n",
              "      <td>2016-01-01 04:00:00</td>\n",
              "      <td>20.0</td>\n",
              "      <td>2.0</td>\n",
              "      <td>20.0</td>\n",
              "      <td>-1.0</td>\n",
              "      <td>1020.0</td>\n",
              "      <td>250.0</td>\n",
              "      <td>2.6</td>\n",
              "    </tr>\n",
              "    <tr>\n",
              "      <th>5</th>\n",
              "      <td>0</td>\n",
              "      <td>2016-01-01 05:00:00</td>\n",
              "      <td>19.4</td>\n",
              "      <td>NaN</td>\n",
              "      <td>19.4</td>\n",
              "      <td>0.0</td>\n",
              "      <td>NaN</td>\n",
              "      <td>0.0</td>\n",
              "      <td>0.0</td>\n",
              "    </tr>\n",
              "    <tr>\n",
              "      <th>6</th>\n",
              "      <td>0</td>\n",
              "      <td>2016-01-01 06:00:00</td>\n",
              "      <td>21.1</td>\n",
              "      <td>6.0</td>\n",
              "      <td>21.1</td>\n",
              "      <td>-1.0</td>\n",
              "      <td>1019.4</td>\n",
              "      <td>0.0</td>\n",
              "      <td>0.0</td>\n",
              "    </tr>\n",
              "    <tr>\n",
              "      <th>7</th>\n",
              "      <td>0</td>\n",
              "      <td>2016-01-01 07:00:00</td>\n",
              "      <td>21.1</td>\n",
              "      <td>NaN</td>\n",
              "      <td>21.1</td>\n",
              "      <td>0.0</td>\n",
              "      <td>1018.8</td>\n",
              "      <td>210.0</td>\n",
              "      <td>1.5</td>\n",
              "    </tr>\n",
              "    <tr>\n",
              "      <th>8</th>\n",
              "      <td>0</td>\n",
              "      <td>2016-01-01 08:00:00</td>\n",
              "      <td>20.6</td>\n",
              "      <td>NaN</td>\n",
              "      <td>20.0</td>\n",
              "      <td>0.0</td>\n",
              "      <td>1018.1</td>\n",
              "      <td>0.0</td>\n",
              "      <td>0.0</td>\n",
              "    </tr>\n",
              "    <tr>\n",
              "      <th>9</th>\n",
              "      <td>0</td>\n",
              "      <td>2016-01-01 09:00:00</td>\n",
              "      <td>21.1</td>\n",
              "      <td>NaN</td>\n",
              "      <td>20.6</td>\n",
              "      <td>0.0</td>\n",
              "      <td>1019.0</td>\n",
              "      <td>290.0</td>\n",
              "      <td>1.5</td>\n",
              "    </tr>\n",
              "  </tbody>\n",
              "</table>\n",
              "</div>"
            ],
            "text/plain": [
              "   site_id            timestamp  air_temperature  cloud_coverage  \\\n",
              "0        0  2016-01-01 00:00:00             25.0             6.0   \n",
              "1        0  2016-01-01 01:00:00             24.4             NaN   \n",
              "2        0  2016-01-01 02:00:00             22.8             2.0   \n",
              "3        0  2016-01-01 03:00:00             21.1             2.0   \n",
              "4        0  2016-01-01 04:00:00             20.0             2.0   \n",
              "5        0  2016-01-01 05:00:00             19.4             NaN   \n",
              "6        0  2016-01-01 06:00:00             21.1             6.0   \n",
              "7        0  2016-01-01 07:00:00             21.1             NaN   \n",
              "8        0  2016-01-01 08:00:00             20.6             NaN   \n",
              "9        0  2016-01-01 09:00:00             21.1             NaN   \n",
              "\n",
              "   dew_temperature  precip_depth_1_hr  sea_level_pressure  wind_direction  \\\n",
              "0             20.0                NaN              1019.7             0.0   \n",
              "1             21.1               -1.0              1020.2            70.0   \n",
              "2             21.1                0.0              1020.2             0.0   \n",
              "3             20.6                0.0              1020.1             0.0   \n",
              "4             20.0               -1.0              1020.0           250.0   \n",
              "5             19.4                0.0                 NaN             0.0   \n",
              "6             21.1               -1.0              1019.4             0.0   \n",
              "7             21.1                0.0              1018.8           210.0   \n",
              "8             20.0                0.0              1018.1             0.0   \n",
              "9             20.6                0.0              1019.0           290.0   \n",
              "\n",
              "   wind_speed  \n",
              "0         0.0  \n",
              "1         1.5  \n",
              "2         0.0  \n",
              "3         0.0  \n",
              "4         2.6  \n",
              "5         0.0  \n",
              "6         0.0  \n",
              "7         1.5  \n",
              "8         0.0  \n",
              "9         1.5  "
            ]
          },
          "metadata": {
            "tags": []
          },
          "execution_count": 22
        }
      ]
    },
    {
      "cell_type": "code",
      "metadata": {
        "id": "h4CGUN0eEFKF",
        "colab_type": "code",
        "colab": {}
      },
      "source": [
        "train = pd.read_csv(\"C:\\\\Users\\\\Sanjan\\\\Desktop\\\\Ashrae data\\\\train.csv\")"
      ],
      "execution_count": 0,
      "outputs": []
    },
    {
      "cell_type": "code",
      "metadata": {
        "id": "Zp1xt1ckEFKJ",
        "colab_type": "code",
        "colab": {},
        "outputId": "4d7268dd-b38f-4ea6-8a8b-d63bda5932e6"
      },
      "source": [
        "train.head(10)"
      ],
      "execution_count": 0,
      "outputs": [
        {
          "output_type": "execute_result",
          "data": {
            "text/html": [
              "<div>\n",
              "<style scoped>\n",
              "    .dataframe tbody tr th:only-of-type {\n",
              "        vertical-align: middle;\n",
              "    }\n",
              "\n",
              "    .dataframe tbody tr th {\n",
              "        vertical-align: top;\n",
              "    }\n",
              "\n",
              "    .dataframe thead th {\n",
              "        text-align: right;\n",
              "    }\n",
              "</style>\n",
              "<table border=\"1\" class=\"dataframe\">\n",
              "  <thead>\n",
              "    <tr style=\"text-align: right;\">\n",
              "      <th></th>\n",
              "      <th>building_id</th>\n",
              "      <th>meter</th>\n",
              "      <th>timestamp</th>\n",
              "      <th>meter_reading</th>\n",
              "    </tr>\n",
              "  </thead>\n",
              "  <tbody>\n",
              "    <tr>\n",
              "      <th>0</th>\n",
              "      <td>0</td>\n",
              "      <td>0</td>\n",
              "      <td>2016-01-01 00:00:00</td>\n",
              "      <td>0.0</td>\n",
              "    </tr>\n",
              "    <tr>\n",
              "      <th>1</th>\n",
              "      <td>1</td>\n",
              "      <td>0</td>\n",
              "      <td>2016-01-01 00:00:00</td>\n",
              "      <td>0.0</td>\n",
              "    </tr>\n",
              "    <tr>\n",
              "      <th>2</th>\n",
              "      <td>2</td>\n",
              "      <td>0</td>\n",
              "      <td>2016-01-01 00:00:00</td>\n",
              "      <td>0.0</td>\n",
              "    </tr>\n",
              "    <tr>\n",
              "      <th>3</th>\n",
              "      <td>3</td>\n",
              "      <td>0</td>\n",
              "      <td>2016-01-01 00:00:00</td>\n",
              "      <td>0.0</td>\n",
              "    </tr>\n",
              "    <tr>\n",
              "      <th>4</th>\n",
              "      <td>4</td>\n",
              "      <td>0</td>\n",
              "      <td>2016-01-01 00:00:00</td>\n",
              "      <td>0.0</td>\n",
              "    </tr>\n",
              "    <tr>\n",
              "      <th>5</th>\n",
              "      <td>5</td>\n",
              "      <td>0</td>\n",
              "      <td>2016-01-01 00:00:00</td>\n",
              "      <td>0.0</td>\n",
              "    </tr>\n",
              "    <tr>\n",
              "      <th>6</th>\n",
              "      <td>6</td>\n",
              "      <td>0</td>\n",
              "      <td>2016-01-01 00:00:00</td>\n",
              "      <td>0.0</td>\n",
              "    </tr>\n",
              "    <tr>\n",
              "      <th>7</th>\n",
              "      <td>7</td>\n",
              "      <td>0</td>\n",
              "      <td>2016-01-01 00:00:00</td>\n",
              "      <td>0.0</td>\n",
              "    </tr>\n",
              "    <tr>\n",
              "      <th>8</th>\n",
              "      <td>8</td>\n",
              "      <td>0</td>\n",
              "      <td>2016-01-01 00:00:00</td>\n",
              "      <td>0.0</td>\n",
              "    </tr>\n",
              "    <tr>\n",
              "      <th>9</th>\n",
              "      <td>9</td>\n",
              "      <td>0</td>\n",
              "      <td>2016-01-01 00:00:00</td>\n",
              "      <td>0.0</td>\n",
              "    </tr>\n",
              "  </tbody>\n",
              "</table>\n",
              "</div>"
            ],
            "text/plain": [
              "   building_id  meter            timestamp  meter_reading\n",
              "0            0      0  2016-01-01 00:00:00            0.0\n",
              "1            1      0  2016-01-01 00:00:00            0.0\n",
              "2            2      0  2016-01-01 00:00:00            0.0\n",
              "3            3      0  2016-01-01 00:00:00            0.0\n",
              "4            4      0  2016-01-01 00:00:00            0.0\n",
              "5            5      0  2016-01-01 00:00:00            0.0\n",
              "6            6      0  2016-01-01 00:00:00            0.0\n",
              "7            7      0  2016-01-01 00:00:00            0.0\n",
              "8            8      0  2016-01-01 00:00:00            0.0\n",
              "9            9      0  2016-01-01 00:00:00            0.0"
            ]
          },
          "metadata": {
            "tags": []
          },
          "execution_count": 24
        }
      ]
    },
    {
      "cell_type": "code",
      "metadata": {
        "id": "6fTpkXCUEFKL",
        "colab_type": "code",
        "colab": {}
      },
      "source": [
        ""
      ],
      "execution_count": 0,
      "outputs": []
    },
    {
      "cell_type": "code",
      "metadata": {
        "id": "fqqg3hBuEFKM",
        "colab_type": "code",
        "colab": {}
      },
      "source": [
        "from sklearn.linear_model import LinearRegression"
      ],
      "execution_count": 0,
      "outputs": []
    },
    {
      "cell_type": "code",
      "metadata": {
        "id": "wndY-ct4EFKP",
        "colab_type": "code",
        "colab": {}
      },
      "source": [
        "from sklearn.metrics import mean_squared_error,mean_absolute_error,mean_squared_log_error"
      ],
      "execution_count": 0,
      "outputs": []
    },
    {
      "cell_type": "code",
      "metadata": {
        "id": "oodHAbj9EFKR",
        "colab_type": "code",
        "colab": {}
      },
      "source": [
        "reg = LinearRegression().fit(X_train, y_train)"
      ],
      "execution_count": 0,
      "outputs": []
    },
    {
      "cell_type": "code",
      "metadata": {
        "id": "VXcSbC1IEFKS",
        "colab_type": "code",
        "colab": {}
      },
      "source": [
        "linear_reg_pred = reg.predict(X_test)"
      ],
      "execution_count": 0,
      "outputs": []
    },
    {
      "cell_type": "code",
      "metadata": {
        "id": "bcE65XcxEFKV",
        "colab_type": "code",
        "colab": {},
        "outputId": "e6b48dea-24c6-4dfd-8d2a-7cca1123d259"
      },
      "source": [
        "print(\"RMSE using Linear Regression\",mean_squared_error(y_test,linear_reg_pred))\n",
        "print(\"MAE using Linear Regression\",mean_absolute_error(y_test,linear_reg_pred))"
      ],
      "execution_count": 0,
      "outputs": [
        {
          "output_type": "stream",
          "text": [
            "RMSE using Linear Regression 3.386148944672328\n",
            "MAE using Linear Regression 1.3331572009259258\n"
          ],
          "name": "stdout"
        }
      ]
    },
    {
      "cell_type": "code",
      "metadata": {
        "id": "c8QyUvjMEFKZ",
        "colab_type": "code",
        "colab": {}
      },
      "source": [
        "from sklearn.tree import DecisionTreeRegressor"
      ],
      "execution_count": 0,
      "outputs": []
    },
    {
      "cell_type": "code",
      "metadata": {
        "id": "NyKks3hJEFKa",
        "colab_type": "code",
        "colab": {}
      },
      "source": [
        "regfit = DecisionTreeRegressor().fit(X_train,y_train)"
      ],
      "execution_count": 0,
      "outputs": []
    },
    {
      "cell_type": "code",
      "metadata": {
        "id": "7R3FFiatEFKc",
        "colab_type": "code",
        "colab": {}
      },
      "source": [
        "dt_pred = regfit.predict(X_test)"
      ],
      "execution_count": 0,
      "outputs": []
    },
    {
      "cell_type": "code",
      "metadata": {
        "id": "sHc_BIRvEFKe",
        "colab_type": "code",
        "colab": {},
        "outputId": "6bc346c6-24a5-4913-c9f0-54009611cbe7"
      },
      "source": [
        "print(\"RMSE using Decision Tree Regressor\",mean_squared_error(y_test,dt_pred))\n",
        "print(\"MAE using Decision Tree Regressor\",mean_absolute_error(y_test,dt_pred))"
      ],
      "execution_count": 0,
      "outputs": [
        {
          "output_type": "stream",
          "text": [
            "RMSE using Decision Tree Regressor 0.7987171738338351\n",
            "MAE using Decision Tree Regressor 0.3010360468774003\n"
          ],
          "name": "stdout"
        }
      ]
    }
  ]
}